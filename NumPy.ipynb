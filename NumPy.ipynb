{
 "cells": [
  {
   "cell_type": "markdown",
   "id": "ede30b32-6830-4290-aec1-88942bf8aac0",
   "metadata": {},
   "source": [
    "# NumPy and Pandas \n"
   ]
  },
  {
   "cell_type": "markdown",
   "id": "3fba8148-e13a-42d3-90e7-a5b41e09600c",
   "metadata": {},
   "source": [
    "### NumPy"
   ]
  },
  {
   "cell_type": "markdown",
   "id": "6c3aa099-4168-44c6-8a84-951a90f8225b",
   "metadata": {},
   "source": [
    "It's a fundamental package for scientific computing in Python. NumPy provides Python with an extensive math library capable of performing numerical computations effectively and efficiently.\n",
    "\n",
    "One great feature of NumPy is that it has multidimensional array data structures that can represent vectors and matrices. A lot of machine learning algorithms rely on matrix operations. For example, when training a Neural Network, you often have to carry out many matrix multiplications. NumPy is optimized for matrix operations and it allows us to do Linear Algebra operations effectively and efficiently, making it very suitable for solving machine learning problems."
   ]
  },
  {
   "cell_type": "markdown",
   "id": "41c02197-e433-418a-be5b-bc26196ac60c",
   "metadata": {},
   "source": [
    "At the core of NumPy is the ndarray, where nd stands for n-dimensional. An ndarray is a multidimensional array of elements all of the same type. In other words, an ndarray is a grid that can take on many shapes and can hold either numbers or strings. In many Machine Learning problems you will often find yourself using ndarrays in many different ways. For instance, you might use an ndarray to hold the pixel values of an image that will be fed into a Neural Network for image classification."
   ]
  },
  {
   "cell_type": "markdown",
   "id": "0fe78029-db20-41fa-bb04-56e920cbdd8e",
   "metadata": {},
   "source": [
    "We can create ndarrays from other array-like objects such as Python lists (using the built-in np.array function) or by using built-in NumPy functions"
   ]
  },
  {
   "cell_type": "markdown",
   "id": "d2432419-60aa-42ae-8429-90afce6936d5",
   "metadata": {},
   "source": [
    "#### Creating ndarrays from np.array"
   ]
  },
  {
   "cell_type": "code",
   "execution_count": 11,
   "id": "e33a3439-4139-4d34-9d47-559fa4482b69",
   "metadata": {},
   "outputs": [
    {
     "data": {
      "text/plain": [
       "array([1, 2, 3, 4, 5])"
      ]
     },
     "execution_count": 11,
     "metadata": {},
     "output_type": "execute_result"
    }
   ],
   "source": [
    "import numpy as np\n",
    "\n",
    "x = np.array([1, 2, 3, 4, 5])\n",
    "x"
   ]
  },
  {
   "cell_type": "code",
   "execution_count": 12,
   "id": "9d420586-41d2-4bb4-999c-38cfdac08817",
   "metadata": {},
   "outputs": [
    {
     "data": {
      "text/plain": [
       "numpy.ndarray"
      ]
     },
     "execution_count": 12,
     "metadata": {},
     "output_type": "execute_result"
    }
   ],
   "source": [
    "type(x)"
   ]
  },
  {
   "cell_type": "markdown",
   "id": "84c6967a-b659-4402-a3c3-1f7a29e62f80",
   "metadata": {},
   "source": [
    "NumPy arrays have a number of attributes that give us further info about them."
   ]
  },
  {
   "cell_type": "code",
   "execution_count": 15,
   "id": "dec61c3e-d4bb-4498-9b2d-2435d733e392",
   "metadata": {},
   "outputs": [
    {
     "data": {
      "text/plain": [
       "dtype('int32')"
      ]
     },
     "execution_count": 15,
     "metadata": {},
     "output_type": "execute_result"
    }
   ],
   "source": [
    "x.dtype\n",
    "\n",
    "# gives us the data type of the elements in the array, not the data type of the array itself. Here the elements are stored in memomry assigned 32bits integers "
   ]
  },
  {
   "cell_type": "code",
   "execution_count": 16,
   "id": "2840adce-dc6a-4809-b2f7-c68dc8e011ca",
   "metadata": {},
   "outputs": [
    {
     "data": {
      "text/plain": [
       "(5,)"
      ]
     },
     "execution_count": 16,
     "metadata": {},
     "output_type": "execute_result"
    }
   ],
   "source": [
    "x.shape"
   ]
  },
  {
   "cell_type": "code",
   "execution_count": 17,
   "id": "7717a8f9-e51e-434e-8123-c7dff22c5270",
   "metadata": {},
   "outputs": [
    {
     "data": {
      "text/plain": [
       "5"
      ]
     },
     "execution_count": 17,
     "metadata": {},
     "output_type": "execute_result"
    }
   ],
   "source": [
    "x.size"
   ]
  },
  {
   "cell_type": "code",
   "execution_count": 19,
   "id": "1729681a-8446-460e-951a-0be5b35c1313",
   "metadata": {},
   "outputs": [],
   "source": [
    "a = np.array([[1, 2, 3], [4, 5, 6], [7, 8, 9], [10, 11, 12]])"
   ]
  },
  {
   "cell_type": "code",
   "execution_count": 20,
   "id": "f7fca49c-5c62-4387-ae2f-b1e09596d987",
   "metadata": {},
   "outputs": [
    {
     "data": {
      "text/plain": [
       "array([[ 1,  2,  3],\n",
       "       [ 4,  5,  6],\n",
       "       [ 7,  8,  9],\n",
       "       [10, 11, 12]])"
      ]
     },
     "execution_count": 20,
     "metadata": {},
     "output_type": "execute_result"
    }
   ],
   "source": [
    "a"
   ]
  },
  {
   "cell_type": "code",
   "execution_count": 21,
   "id": "71671dcd-98f1-4cef-84b0-8900d6bbe566",
   "metadata": {},
   "outputs": [
    {
     "data": {
      "text/plain": [
       "(4, 3)"
      ]
     },
     "execution_count": 21,
     "metadata": {},
     "output_type": "execute_result"
    }
   ],
   "source": [
    "a.shape"
   ]
  },
  {
   "cell_type": "markdown",
   "id": "eb2492d9-720d-48f1-9125-8d12234420e1",
   "metadata": {},
   "source": [
    "No of dimensions = rank of the array"
   ]
  },
  {
   "cell_type": "code",
   "execution_count": 22,
   "id": "24373301-fdcd-48f9-ac85-4dee264a8556",
   "metadata": {},
   "outputs": [
    {
     "data": {
      "text/plain": [
       "2"
      ]
     },
     "execution_count": 22,
     "metadata": {},
     "output_type": "execute_result"
    }
   ],
   "source": [
    "a.ndim\n",
    "\n",
    "# rank also equals 2"
   ]
  },
  {
   "cell_type": "code",
   "execution_count": 25,
   "id": "55a4cde1-ee90-4707-ab4f-b9b369d1a09a",
   "metadata": {},
   "outputs": [],
   "source": [
    "# specifying dtype\n",
    "a = np.array([[1, 2, 3], [4, 5, 6], [7, 8, 9], [10, 11, 12]], dtype= np.float64)"
   ]
  },
  {
   "cell_type": "code",
   "execution_count": 26,
   "id": "be649186-b3e5-466b-9327-610122a6d439",
   "metadata": {},
   "outputs": [
    {
     "data": {
      "text/plain": [
       "array([[ 1.,  2.,  3.],\n",
       "       [ 4.,  5.,  6.],\n",
       "       [ 7.,  8.,  9.],\n",
       "       [10., 11., 12.]])"
      ]
     },
     "execution_count": 26,
     "metadata": {},
     "output_type": "execute_result"
    }
   ],
   "source": [
    "a"
   ]
  },
  {
   "cell_type": "markdown",
   "id": "404fa8d3-f6ba-43ca-b311-51eaece35484",
   "metadata": {},
   "source": [
    "To save an array: np.save()\n",
    "To load an array: np.load()"
   ]
  },
  {
   "cell_type": "code",
   "execution_count": 27,
   "id": "fe260280-6ba8-4735-8468-e1509d2e693d",
   "metadata": {},
   "outputs": [],
   "source": [
    "np.save('my_array', a)"
   ]
  },
  {
   "cell_type": "code",
   "execution_count": 29,
   "id": "2236926a-0226-442e-b475-84fa217c4895",
   "metadata": {},
   "outputs": [],
   "source": [
    "d = np.load('my_array.npy')"
   ]
  },
  {
   "cell_type": "code",
   "execution_count": 30,
   "id": "ea63bbbd-2193-4d45-a78e-144710097081",
   "metadata": {},
   "outputs": [
    {
     "data": {
      "text/plain": [
       "array([[ 1.,  2.,  3.],\n",
       "       [ 4.,  5.,  6.],\n",
       "       [ 7.,  8.,  9.],\n",
       "       [10., 11., 12.]])"
      ]
     },
     "execution_count": 30,
     "metadata": {},
     "output_type": "execute_result"
    }
   ],
   "source": [
    "d"
   ]
  },
  {
   "cell_type": "markdown",
   "id": "504338f7-37ca-40bc-bca8-b40e9c2038e5",
   "metadata": {},
   "source": [
    "N/B: If you use mixed data types in your arrays, such integers and strings, NumPy does upcasting"
   ]
  },
  {
   "cell_type": "markdown",
   "id": "63f8ac6f-9b83-4e3f-80ef-7a68c36f9186",
   "metadata": {},
   "source": [
    "#### Using built-in functions\n",
    "\n",
    "N/B: To state the dtype, e.g dtype=int"
   ]
  },
  {
   "cell_type": "code",
   "execution_count": 31,
   "id": "c074a83a-3d8f-4f56-97cd-13402df132d3",
   "metadata": {},
   "outputs": [
    {
     "data": {
      "text/plain": [
       "array([[0., 0., 0.],\n",
       "       [0., 0., 0.],\n",
       "       [0., 0., 0.],\n",
       "       [0., 0., 0.]])"
      ]
     },
     "execution_count": 31,
     "metadata": {},
     "output_type": "execute_result"
    }
   ],
   "source": [
    "# Generate an array of zeros. Takes shape as an argument\n",
    "np.zeros((4,3))"
   ]
  },
  {
   "cell_type": "code",
   "execution_count": 33,
   "id": "33e1bbce-eb33-4945-a21d-40b0fda5b1e7",
   "metadata": {},
   "outputs": [
    {
     "data": {
      "text/plain": [
       "array([[1., 1., 1., 1.],\n",
       "       [1., 1., 1., 1.],\n",
       "       [1., 1., 1., 1.]])"
      ]
     },
     "execution_count": 33,
     "metadata": {},
     "output_type": "execute_result"
    }
   ],
   "source": [
    "# Generate an array of ones. Takes shape as an argument\n",
    "np.ones((3,4))"
   ]
  },
  {
   "cell_type": "code",
   "execution_count": 34,
   "id": "30d2f867-4bb9-4856-a5c1-57b36ab9b690",
   "metadata": {},
   "outputs": [
    {
     "data": {
      "text/plain": [
       "array([[1, 1, 1, 1],\n",
       "       [1, 1, 1, 1],\n",
       "       [1, 1, 1, 1]])"
      ]
     },
     "execution_count": 34,
     "metadata": {},
     "output_type": "execute_result"
    }
   ],
   "source": [
    "np.ones((3,4), dtype = int)"
   ]
  },
  {
   "cell_type": "code",
   "execution_count": 35,
   "id": "91cc4af3-06f0-4366-9eb3-8d6073da23f4",
   "metadata": {},
   "outputs": [
    {
     "data": {
      "text/plain": [
       "array([[7, 7, 7, 7],\n",
       "       [7, 7, 7, 7],\n",
       "       [7, 7, 7, 7]])"
      ]
     },
     "execution_count": 35,
     "metadata": {},
     "output_type": "execute_result"
    }
   ],
   "source": [
    "# Generate an array full of a constant\n",
    "np.full((3,4), 7)"
   ]
  },
  {
   "cell_type": "code",
   "execution_count": 37,
   "id": "b88b9453-13e7-4772-8d74-ab3f835f46f9",
   "metadata": {},
   "outputs": [
    {
     "data": {
      "text/plain": [
       "array([[1., 0., 0., 0., 0.],\n",
       "       [0., 1., 0., 0., 0.],\n",
       "       [0., 0., 1., 0., 0.],\n",
       "       [0., 0., 0., 1., 0.],\n",
       "       [0., 0., 0., 0., 1.]])"
      ]
     },
     "execution_count": 37,
     "metadata": {},
     "output_type": "execute_result"
    }
   ],
   "source": [
    "# Generate an identity matrix (square shaped matrix with ones along its main diagonal and zeros everywhere else)\n",
    "np.eye((5))"
   ]
  },
  {
   "cell_type": "code",
   "execution_count": 38,
   "id": "7fc74cb0-9135-4117-99eb-806b8392c4bc",
   "metadata": {},
   "outputs": [
    {
     "data": {
      "text/plain": [
       "array([[23,  0,  0,  0,  0],\n",
       "       [ 0, 32,  0,  0,  0],\n",
       "       [ 0,  0, 48,  0,  0],\n",
       "       [ 0,  0,  0, 64,  0],\n",
       "       [ 0,  0,  0,  0, 65]])"
      ]
     },
     "execution_count": 38,
     "metadata": {},
     "output_type": "execute_result"
    }
   ],
   "source": [
    "# Generate a diagonal matrix wiith particular numbers along its diagonal\n",
    "np.diag([23, 32, 48, 64, 65])"
   ]
  },
  {
   "cell_type": "code",
   "execution_count": 39,
   "id": "84173d8a-aca6-4523-a3ee-2b9319abff24",
   "metadata": {},
   "outputs": [
    {
     "data": {
      "text/plain": [
       "array([ 2,  4,  6,  8, 10, 12, 14, 16, 18])"
      ]
     },
     "execution_count": 39,
     "metadata": {},
     "output_type": "execute_result"
    }
   ],
   "source": [
    "# Generating an array. It takes three arguments; start, stop, step\n",
    "np.arange(2, 20, 2)"
   ]
  },
  {
   "cell_type": "code",
   "execution_count": 43,
   "id": "4fefa89f-40f1-4839-ae9e-b625df9d26ef",
   "metadata": {},
   "outputs": [
    {
     "data": {
      "text/plain": [
       "array([ 1.  ,  3.25,  5.5 ,  7.75, 10.  ])"
      ]
     },
     "execution_count": 43,
     "metadata": {},
     "output_type": "execute_result"
    }
   ],
   "source": [
    "# When we want non-integer steps, it's preferable to use linspace. It gives n-evenly spaced numbers from start to stop.\n",
    "#It takes start, stop, and n\n",
    "# If n is not specified, it defaults to 50\n",
    "# To get the stop to be exclusive, set endpoint=False\n",
    "np.linspace(1, 10, 5)"
   ]
  },
  {
   "cell_type": "markdown",
   "id": "c00f2c0d-e746-4262-851e-27b6143b6c61",
   "metadata": {},
   "source": [
    "The reshape function which can also be used as a method"
   ]
  },
  {
   "cell_type": "code",
   "execution_count": 49,
   "id": "b35ae88c-5f60-4a03-8748-f3e3c51f8db9",
   "metadata": {},
   "outputs": [
    {
     "data": {
      "text/plain": [
       "array([[ 2.        ,  3.08571429,  4.17142857,  5.25714286,  6.34285714],\n",
       "       [ 7.42857143,  8.51428571,  9.6       , 10.68571429, 11.77142857],\n",
       "       [12.85714286, 13.94285714, 15.02857143, 16.11428571, 17.2       ],\n",
       "       [18.28571429, 19.37142857, 20.45714286, 21.54285714, 22.62857143],\n",
       "       [23.71428571, 24.8       , 25.88571429, 26.97142857, 28.05714286],\n",
       "       [29.14285714, 30.22857143, 31.31428571, 32.4       , 33.48571429],\n",
       "       [34.57142857, 35.65714286, 36.74285714, 37.82857143, 38.91428571]])"
      ]
     },
     "execution_count": 49,
     "metadata": {},
     "output_type": "execute_result"
    }
   ],
   "source": [
    "np.reshape(np.linspace(2, 40, 35, endpoint=False), (7,5))"
   ]
  },
  {
   "cell_type": "code",
   "execution_count": 50,
   "id": "ab764cb9-5fca-4565-b9e5-ccb78462e966",
   "metadata": {},
   "outputs": [
    {
     "data": {
      "text/plain": [
       "array([[ 2.        ,  3.08571429,  4.17142857,  5.25714286,  6.34285714],\n",
       "       [ 7.42857143,  8.51428571,  9.6       , 10.68571429, 11.77142857],\n",
       "       [12.85714286, 13.94285714, 15.02857143, 16.11428571, 17.2       ],\n",
       "       [18.28571429, 19.37142857, 20.45714286, 21.54285714, 22.62857143],\n",
       "       [23.71428571, 24.8       , 25.88571429, 26.97142857, 28.05714286],\n",
       "       [29.14285714, 30.22857143, 31.31428571, 32.4       , 33.48571429],\n",
       "       [34.57142857, 35.65714286, 36.74285714, 37.82857143, 38.91428571]])"
      ]
     },
     "execution_count": 50,
     "metadata": {},
     "output_type": "execute_result"
    }
   ],
   "source": [
    "np.linspace(2, 40, 35, endpoint=False).reshape(7,5)"
   ]
  },
  {
   "cell_type": "markdown",
   "id": "48d38ee0-8e80-4593-8332-99852ef208f0",
   "metadata": {},
   "source": [
    "To generate random numbers`"
   ]
  },
  {
   "cell_type": "code",
   "execution_count": 53,
   "id": "19a32a8a-9407-410c-97fa-91dcdd209036",
   "metadata": {},
   "outputs": [
    {
     "data": {
      "text/plain": [
       "array([[0.06736711, 0.16084858, 0.39170001, 0.07898757],\n",
       "       [0.56180501, 0.92584618, 0.55386197, 0.03261331],\n",
       "       [0.76832232, 0.65041827, 0.70347703, 0.85431548]])"
      ]
     },
     "execution_count": 53,
     "metadata": {},
     "output_type": "execute_result"
    }
   ],
   "source": [
    "# Between 0 and 1\n",
    "np.random.random((3,4))"
   ]
  },
  {
   "cell_type": "code",
   "execution_count": 54,
   "id": "5813b03b-27a9-4da6-bb60-c2c631fad6d4",
   "metadata": {},
   "outputs": [
    {
     "data": {
      "text/plain": [
       "array([[9, 7, 8, 5, 9],\n",
       "       [3, 5, 3, 2, 9],\n",
       "       [9, 4, 4, 8, 3],\n",
       "       [2, 7, 3, 5, 3],\n",
       "       [3, 6, 4, 4, 2]])"
      ]
     },
     "execution_count": 54,
     "metadata": {},
     "output_type": "execute_result"
    }
   ],
   "source": [
    "# Random integers within a particular interval. Upper bound is exclusive\n",
    "np.random.randint(2, 10, (5,5))"
   ]
  },
  {
   "cell_type": "code",
   "execution_count": 56,
   "id": "53408a8a-b1d9-410c-b04c-003f51a94748",
   "metadata": {},
   "outputs": [
    {
     "data": {
      "text/plain": [
       "array([[-0.04249837,  0.13793983, -0.06123047, -0.03379478, -0.11895154],\n",
       "       [-0.07039167, -0.0374524 , -0.19799631,  0.03460748,  0.02979442],\n",
       "       [-0.05763738, -0.05489279, -0.07056053, -0.04360023,  0.11102362],\n",
       "       [ 0.00728827, -0.12557582, -0.0390334 ,  0.147382  , -0.19473876],\n",
       "       [ 0.07031462,  0.06034209, -0.05135857,  0.07420587, -0.02627166]])"
      ]
     },
     "execution_count": 56,
     "metadata": {},
     "output_type": "execute_result"
    }
   ],
   "source": [
    "# You may want NumPy arrays with random numbers that satisfy certain satistical properties e.g mean=0\n",
    "# You may also want a random array with numbers drawn from a certain statistical distribution\n",
    "np.random.normal(0,0.1, size=(5,5))"
   ]
  },
  {
   "cell_type": "markdown",
   "id": "038c56a5-2973-4c3f-8ecf-a05e0d6f38e1",
   "metadata": {},
   "source": [
    "#### Accessing, Deleting and Inserting Elements in ndarray. \n",
    "NumPy arrays are mutable and ordered"
   ]
  },
  {
   "cell_type": "code",
   "execution_count": 58,
   "id": "319925fc-03c5-4d13-a7a7-bec58a7e8d5f",
   "metadata": {},
   "outputs": [
    {
     "data": {
      "text/plain": [
       "array([1, 2, 3, 4, 5])"
      ]
     },
     "execution_count": 58,
     "metadata": {},
     "output_type": "execute_result"
    }
   ],
   "source": [
    "x = np.array([1, 2, 3, 4, 5])\n",
    "x"
   ]
  },
  {
   "cell_type": "code",
   "execution_count": 59,
   "id": "61702797-3654-4575-b26b-8f230abd5c85",
   "metadata": {},
   "outputs": [
    {
     "data": {
      "text/plain": [
       "1"
      ]
     },
     "execution_count": 59,
     "metadata": {},
     "output_type": "execute_result"
    }
   ],
   "source": [
    "x[0]"
   ]
  },
  {
   "cell_type": "code",
   "execution_count": 60,
   "id": "82be3d1c-3f96-4c6f-a27c-5917b4a40946",
   "metadata": {},
   "outputs": [
    {
     "data": {
      "text/plain": [
       "5"
      ]
     },
     "execution_count": 60,
     "metadata": {},
     "output_type": "execute_result"
    }
   ],
   "source": [
    "x[-1]"
   ]
  },
  {
   "cell_type": "code",
   "execution_count": 61,
   "id": "e9e980f1-7850-4976-93a5-246ded8dc1ee",
   "metadata": {},
   "outputs": [
    {
     "data": {
      "text/plain": [
       "5"
      ]
     },
     "execution_count": 61,
     "metadata": {},
     "output_type": "execute_result"
    }
   ],
   "source": [
    "x[4]"
   ]
  },
  {
   "cell_type": "markdown",
   "id": "ef983040-9d4f-4e0b-804c-27e3ee27d108",
   "metadata": {},
   "source": [
    "Modifying elements in arrays"
   ]
  },
  {
   "cell_type": "code",
   "execution_count": 62,
   "id": "febbfc22-11ee-4bef-9ab3-3cc9fb557ce4",
   "metadata": {},
   "outputs": [],
   "source": [
    "x[3] = 20"
   ]
  },
  {
   "cell_type": "code",
   "execution_count": 63,
   "id": "f1aa2800-ee39-4575-8b08-28fb89d15f4d",
   "metadata": {},
   "outputs": [
    {
     "data": {
      "text/plain": [
       "array([ 1,  2,  3, 20,  5])"
      ]
     },
     "execution_count": 63,
     "metadata": {},
     "output_type": "execute_result"
    }
   ],
   "source": [
    "x"
   ]
  },
  {
   "cell_type": "code",
   "execution_count": 73,
   "id": "9b31fd94-b847-4e99-bc31-1d7db1635e76",
   "metadata": {},
   "outputs": [
    {
     "data": {
      "text/plain": [
       "array([[1, 2, 3],\n",
       "       [4, 5, 6],\n",
       "       [7, 8, 9]])"
      ]
     },
     "execution_count": 73,
     "metadata": {},
     "output_type": "execute_result"
    }
   ],
   "source": [
    "y = np.reshape(np.arange(1, 10),(3,3))\n",
    "y"
   ]
  },
  {
   "cell_type": "code",
   "execution_count": 72,
   "id": "dc027b23-4fb9-4919-96ff-34b2db8ee64a",
   "metadata": {},
   "outputs": [
    {
     "data": {
      "text/plain": [
       "1"
      ]
     },
     "execution_count": 72,
     "metadata": {},
     "output_type": "execute_result"
    }
   ],
   "source": [
    "y[0,0]"
   ]
  },
  {
   "cell_type": "code",
   "execution_count": 74,
   "id": "b0fd910e-68cd-4fa6-8c10-e6da47986fba",
   "metadata": {},
   "outputs": [],
   "source": [
    "y[1,2] = 28"
   ]
  },
  {
   "cell_type": "code",
   "execution_count": 75,
   "id": "51c073d2-c40e-4966-95c3-dcbf5de71dc3",
   "metadata": {},
   "outputs": [
    {
     "data": {
      "text/plain": [
       "array([[ 1,  2,  3],\n",
       "       [ 4,  5, 28],\n",
       "       [ 7,  8,  9]])"
      ]
     },
     "execution_count": 75,
     "metadata": {},
     "output_type": "execute_result"
    }
   ],
   "source": [
    "y"
   ]
  },
  {
   "cell_type": "markdown",
   "id": "aa63adf3-57fd-471d-a134-790be6985ef2",
   "metadata": {},
   "source": [
    "Deleting elements in ndarrays"
   ]
  },
  {
   "cell_type": "markdown",
   "id": "31ecdaae-e8e9-48dd-a0e8-cc854990ca87",
   "metadata": {},
   "source": [
    "Here, we use the delete function; np.delete. Here, we introduce the axis (for rank 2 arrays). The arguments are aray, index, axis"
   ]
  },
  {
   "cell_type": "code",
   "execution_count": 77,
   "id": "b77064b7-6dcf-4a70-b570-5d4ff26608c4",
   "metadata": {},
   "outputs": [
    {
     "data": {
      "text/plain": [
       "array([ 1,  2,  3, 20,  5])"
      ]
     },
     "execution_count": 77,
     "metadata": {},
     "output_type": "execute_result"
    }
   ],
   "source": [
    "x"
   ]
  },
  {
   "cell_type": "code",
   "execution_count": 78,
   "id": "171261f9-5443-41a2-9f89-2f86ce6a7f2e",
   "metadata": {},
   "outputs": [
    {
     "data": {
      "text/plain": [
       "array([ 1,  2, 20,  5])"
      ]
     },
     "execution_count": 78,
     "metadata": {},
     "output_type": "execute_result"
    }
   ],
   "source": [
    "np.delete(x, 2)"
   ]
  },
  {
   "cell_type": "code",
   "execution_count": 79,
   "id": "7b33d825-d7f4-4310-901a-0bdac4911d02",
   "metadata": {},
   "outputs": [
    {
     "data": {
      "text/plain": [
       "array([ 1,  2,  3, 20,  5])"
      ]
     },
     "execution_count": 79,
     "metadata": {},
     "output_type": "execute_result"
    }
   ],
   "source": [
    "x"
   ]
  },
  {
   "cell_type": "code",
   "execution_count": 80,
   "id": "26cce948-33a2-471a-8b4f-f1f3533257cc",
   "metadata": {},
   "outputs": [
    {
     "data": {
      "text/plain": [
       "array([ 1,  3, 20])"
      ]
     },
     "execution_count": 80,
     "metadata": {},
     "output_type": "execute_result"
    }
   ],
   "source": [
    "np.delete(x, [1,-1])"
   ]
  },
  {
   "cell_type": "code",
   "execution_count": 81,
   "id": "b63e74da-2df8-48ca-8f79-2eb4774bf21c",
   "metadata": {},
   "outputs": [
    {
     "data": {
      "text/plain": [
       "array([[ 1,  2,  3],\n",
       "       [ 4,  5, 28],\n",
       "       [ 7,  8,  9]])"
      ]
     },
     "execution_count": 81,
     "metadata": {},
     "output_type": "execute_result"
    }
   ],
   "source": [
    "y"
   ]
  },
  {
   "cell_type": "code",
   "execution_count": 83,
   "id": "3adcc089-b3c9-4a25-9323-868077ba008b",
   "metadata": {},
   "outputs": [
    {
     "data": {
      "text/plain": [
       "array([[1, 2],\n",
       "       [4, 5],\n",
       "       [7, 8]])"
      ]
     },
     "execution_count": 83,
     "metadata": {},
     "output_type": "execute_result"
    }
   ],
   "source": [
    "np.delete(y, 2, axis=1)"
   ]
  },
  {
   "cell_type": "code",
   "execution_count": 84,
   "id": "cae0514b-cf4f-4758-920b-b8dbedec3090",
   "metadata": {},
   "outputs": [
    {
     "data": {
      "text/plain": [
       "array([[1],\n",
       "       [4],\n",
       "       [7]])"
      ]
     },
     "execution_count": 84,
     "metadata": {},
     "output_type": "execute_result"
    }
   ],
   "source": [
    "np.delete(y, [2,1], axis=1)"
   ]
  },
  {
   "cell_type": "code",
   "execution_count": 85,
   "id": "e9d19155-0e07-4f32-94e9-eea9107bdc93",
   "metadata": {},
   "outputs": [],
   "source": [
    "y[1,1] = 39"
   ]
  },
  {
   "cell_type": "code",
   "execution_count": 86,
   "id": "c8dc4d1f-9fcb-47dc-8d93-055ad24ef04f",
   "metadata": {},
   "outputs": [
    {
     "data": {
      "text/plain": [
       "array([[ 1,  2,  3],\n",
       "       [ 4, 39, 28],\n",
       "       [ 7,  8,  9]])"
      ]
     },
     "execution_count": 86,
     "metadata": {},
     "output_type": "execute_result"
    }
   ],
   "source": [
    "y"
   ]
  },
  {
   "cell_type": "markdown",
   "id": "2ec2bbaf-a2fc-4d3f-af73-688d063dd6ea",
   "metadata": {},
   "source": [
    "#### Add elements to a NumPy array\n",
    "Here, we use the append function.\n",
    "The arguments are; array, list of elements, axis"
   ]
  },
  {
   "cell_type": "code",
   "execution_count": 95,
   "id": "acdcb6a3-466b-4e1e-9c72-7b7ebc17a08e",
   "metadata": {},
   "outputs": [
    {
     "data": {
      "text/plain": [
       "array([ 1,  2,  3, 20,  5, 10])"
      ]
     },
     "execution_count": 95,
     "metadata": {},
     "output_type": "execute_result"
    }
   ],
   "source": [
    "np.append(x, 10)"
   ]
  },
  {
   "cell_type": "code",
   "execution_count": 96,
   "id": "92e26c7d-c61c-4953-aa04-b9cc5f1c6786",
   "metadata": {},
   "outputs": [
    {
     "data": {
      "text/plain": [
       "array([  1,   2,   3,  20,   5,  10, 335])"
      ]
     },
     "execution_count": 96,
     "metadata": {},
     "output_type": "execute_result"
    }
   ],
   "source": [
    "np.append(x, [10, 335])"
   ]
  },
  {
   "cell_type": "code",
   "execution_count": 92,
   "id": "a98a6f6e-33fb-43ab-9304-bbc499fd69f8",
   "metadata": {},
   "outputs": [
    {
     "data": {
      "text/plain": [
       "array([[ 1,  2,  3],\n",
       "       [ 4, 39, 28],\n",
       "       [ 7,  8,  9],\n",
       "       [10, 20, 30]])"
      ]
     },
     "execution_count": 92,
     "metadata": {},
     "output_type": "execute_result"
    }
   ],
   "source": [
    "np.append(y, [[10, 20, 30]], axis = 0)"
   ]
  },
  {
   "cell_type": "code",
   "execution_count": 94,
   "id": "1647d61f-9a0f-4fa6-9c6d-c13939c08847",
   "metadata": {},
   "outputs": [
    {
     "data": {
      "text/plain": [
       "array([[ 1,  2,  3, 10],\n",
       "       [ 4, 39, 28, 20],\n",
       "       [ 7,  8,  9, 30]])"
      ]
     },
     "execution_count": 94,
     "metadata": {},
     "output_type": "execute_result"
    }
   ],
   "source": [
    "np.append(y, [[10], [20], [30]], axis = 1)"
   ]
  },
  {
   "cell_type": "markdown",
   "id": "89ff33a0-4aeb-4f2f-9ffc-4aede04c81ae",
   "metadata": {},
   "source": [
    "#### Insert elements at a position into NumPy arrays\n",
    "we use the insert function. Arguments are array, index, elements, axis"
   ]
  },
  {
   "cell_type": "code",
   "execution_count": 97,
   "id": "dec978e9-b5b8-4381-953c-c5847d70ec79",
   "metadata": {},
   "outputs": [
    {
     "data": {
      "text/plain": [
       "array([ 1,  2,  3, 20,  5])"
      ]
     },
     "execution_count": 97,
     "metadata": {},
     "output_type": "execute_result"
    }
   ],
   "source": [
    "x"
   ]
  },
  {
   "cell_type": "code",
   "execution_count": 98,
   "id": "d8dd9cc0-1c63-41f7-acba-d280da80e621",
   "metadata": {},
   "outputs": [
    {
     "data": {
      "text/plain": [
       "array([ 1,  2,  8,  3, 20,  5])"
      ]
     },
     "execution_count": 98,
     "metadata": {},
     "output_type": "execute_result"
    }
   ],
   "source": [
    "np.insert(x, 2, 8)"
   ]
  },
  {
   "cell_type": "code",
   "execution_count": 99,
   "id": "49f30201-5489-4b34-a431-531d3ab9ebe1",
   "metadata": {},
   "outputs": [
    {
     "data": {
      "text/plain": [
       "array([[ 1,  2,  3],\n",
       "       [ 4, 39, 28],\n",
       "       [ 7,  8,  9]])"
      ]
     },
     "execution_count": 99,
     "metadata": {},
     "output_type": "execute_result"
    }
   ],
   "source": [
    "y"
   ]
  },
  {
   "cell_type": "code",
   "execution_count": 100,
   "id": "d7ddb584-9132-416b-9cbf-d301e50b53f1",
   "metadata": {},
   "outputs": [
    {
     "data": {
      "text/plain": [
       "array([[ 1, 23, 54, 76,  2,  3],\n",
       "       [ 4, 23, 54, 76, 39, 28],\n",
       "       [ 7, 23, 54, 76,  8,  9]])"
      ]
     },
     "execution_count": 100,
     "metadata": {},
     "output_type": "execute_result"
    }
   ],
   "source": [
    "np.insert(y, 1, [[23], [54], [76]], axis=1)"
   ]
  },
  {
   "cell_type": "code",
   "execution_count": 101,
   "id": "0278d38d-5b32-4e0f-b7a0-f5eace71a563",
   "metadata": {},
   "outputs": [
    {
     "data": {
      "text/plain": [
       "array([[ 1, 23,  2,  3],\n",
       "       [ 4, 54, 39, 28],\n",
       "       [ 7, 76,  8,  9]])"
      ]
     },
     "execution_count": 101,
     "metadata": {},
     "output_type": "execute_result"
    }
   ],
   "source": [
    "np.insert(y, 1, [23, 54, 76], axis=1)"
   ]
  },
  {
   "cell_type": "code",
   "execution_count": 102,
   "id": "80d87078-4b5a-4d1e-8f32-8d0eca78fbd6",
   "metadata": {},
   "outputs": [
    {
     "data": {
      "text/plain": [
       "array([[ 1,  2,  3],\n",
       "       [23, 54, 76],\n",
       "       [ 4, 39, 28],\n",
       "       [ 7,  8,  9]])"
      ]
     },
     "execution_count": 102,
     "metadata": {},
     "output_type": "execute_result"
    }
   ],
   "source": [
    "np.insert(y, 1, [23, 54, 76], axis=0)"
   ]
  },
  {
   "cell_type": "code",
   "execution_count": 103,
   "id": "42844944-2e73-4e54-b6c6-f538bbb55ee3",
   "metadata": {},
   "outputs": [
    {
     "data": {
      "text/plain": [
       "array([[ 1,  2,  3],\n",
       "       [ 5,  5,  5],\n",
       "       [ 4, 39, 28],\n",
       "       [ 7,  8,  9]])"
      ]
     },
     "execution_count": 103,
     "metadata": {},
     "output_type": "execute_result"
    }
   ],
   "source": [
    "np.insert(y, 1, 5, axis=0)"
   ]
  },
  {
   "cell_type": "code",
   "execution_count": 104,
   "id": "6dc702cc-27ae-4283-b9a7-69bcba17e051",
   "metadata": {},
   "outputs": [
    {
     "data": {
      "text/plain": [
       "array([[ 1,  5,  2,  3],\n",
       "       [ 4,  5, 39, 28],\n",
       "       [ 7,  5,  8,  9]])"
      ]
     },
     "execution_count": 104,
     "metadata": {},
     "output_type": "execute_result"
    }
   ],
   "source": [
    "np.insert(y, 1, 5, axis=1)"
   ]
  },
  {
   "cell_type": "markdown",
   "id": "ec04093b-58d3-4148-a0e8-39a8bfa1e294",
   "metadata": {},
   "source": [
    "#### Stacking arrays\n",
    "There can be vertical stacking using the vstack function or horizontal stacking using the hstack function"
   ]
  },
  {
   "cell_type": "code",
   "execution_count": 106,
   "id": "75686ff9-5dde-45a7-b2f3-381cfba01bdd",
   "metadata": {},
   "outputs": [
    {
     "data": {
      "text/plain": [
       "array([ 1,  2,  3, 20,  5])"
      ]
     },
     "execution_count": 106,
     "metadata": {},
     "output_type": "execute_result"
    }
   ],
   "source": [
    "x"
   ]
  },
  {
   "cell_type": "code",
   "execution_count": 107,
   "id": "4d392137-b03e-4537-9e0e-75564fc46a65",
   "metadata": {},
   "outputs": [
    {
     "data": {
      "text/plain": [
       "array([[ 1,  2,  3],\n",
       "       [ 4, 39, 28],\n",
       "       [ 7,  8,  9]])"
      ]
     },
     "execution_count": 107,
     "metadata": {},
     "output_type": "execute_result"
    }
   ],
   "source": [
    "y"
   ]
  },
  {
   "cell_type": "code",
   "execution_count": 108,
   "id": "221fd1d1-9541-4008-850e-ecd81555be04",
   "metadata": {},
   "outputs": [],
   "source": [
    "b = np.delete(x, [-1, -2])"
   ]
  },
  {
   "cell_type": "code",
   "execution_count": 109,
   "id": "caca4e21-8dc8-4628-a695-f35c917660ba",
   "metadata": {},
   "outputs": [
    {
     "data": {
      "text/plain": [
       "array([1, 2, 3])"
      ]
     },
     "execution_count": 109,
     "metadata": {},
     "output_type": "execute_result"
    }
   ],
   "source": [
    "b"
   ]
  },
  {
   "cell_type": "code",
   "execution_count": 112,
   "id": "c7ab05d3-8ef5-4959-8440-ac0a3f78124c",
   "metadata": {},
   "outputs": [
    {
     "data": {
      "text/plain": [
       "array([[ 1,  2,  3],\n",
       "       [ 4, 39, 28],\n",
       "       [ 7,  8,  9],\n",
       "       [ 1,  2,  3]])"
      ]
     },
     "execution_count": 112,
     "metadata": {},
     "output_type": "execute_result"
    }
   ],
   "source": [
    "np.vstack((y, b))"
   ]
  },
  {
   "cell_type": "code",
   "execution_count": 114,
   "id": "46f926ba-182f-4531-88d1-07a4e27961aa",
   "metadata": {},
   "outputs": [
    {
     "data": {
      "text/plain": [
       "array([[ 1,  2,  3,  1],\n",
       "       [ 4, 39, 28,  2],\n",
       "       [ 7,  8,  9,  3]])"
      ]
     },
     "execution_count": 114,
     "metadata": {},
     "output_type": "execute_result"
    }
   ],
   "source": [
    "np.hstack((y, b.reshape(3,1)))"
   ]
  },
  {
   "cell_type": "markdown",
   "id": "5510d178-181d-4dfe-a3a8-9ab2d47808b6",
   "metadata": {},
   "source": [
    "## Slicing ndarrays\n",
    "* ndarray[start:end]\n",
    "* ndarray[start:]\n",
    "* ndarray[:end]\n",
    "\n",
    "* For @D arrays, you have:\n",
    "* ndarray[row slice, column slice]"
   ]
  },
  {
   "cell_type": "code",
   "execution_count": 116,
   "id": "6dfdc15a-1ba7-4aa8-a589-399716aeb397",
   "metadata": {},
   "outputs": [
    {
     "data": {
      "text/plain": [
       "array([ 3, 20,  5])"
      ]
     },
     "execution_count": 116,
     "metadata": {},
     "output_type": "execute_result"
    }
   ],
   "source": [
    "x[2:]"
   ]
  },
  {
   "cell_type": "code",
   "execution_count": 121,
   "id": "9d614bf6-8601-44f2-8b0f-759f9586aac8",
   "metadata": {},
   "outputs": [
    {
     "data": {
      "text/plain": [
       "array([[ 0,  1,  2,  3,  4],\n",
       "       [ 5,  6,  7,  8,  9],\n",
       "       [10, 11, 12, 13, 14],\n",
       "       [15, 16, 17, 18, 19]])"
      ]
     },
     "execution_count": 121,
     "metadata": {},
     "output_type": "execute_result"
    }
   ],
   "source": [
    "e = np.arange(20).reshape(4, 5)\n",
    "e"
   ]
  },
  {
   "cell_type": "code",
   "execution_count": 125,
   "id": "9f417117-3527-44a6-b166-75f31a55d243",
   "metadata": {},
   "outputs": [
    {
     "data": {
      "text/plain": [
       "array([[ 7,  8,  9],\n",
       "       [12, 13, 14],\n",
       "       [17, 18, 19]])"
      ]
     },
     "execution_count": 125,
     "metadata": {},
     "output_type": "execute_result"
    }
   ],
   "source": [
    "w = e[1:,2:5]\n",
    "w"
   ]
  },
  {
   "cell_type": "code",
   "execution_count": 126,
   "id": "0b287b3c-01b8-4533-b63c-2757f0c0e199",
   "metadata": {},
   "outputs": [
    {
     "data": {
      "text/plain": [
       "array([[ 7,  8,  9],\n",
       "       [12, 13, 14],\n",
       "       [17, 18, 19]])"
      ]
     },
     "execution_count": 126,
     "metadata": {},
     "output_type": "execute_result"
    }
   ],
   "source": [
    "w"
   ]
  },
  {
   "cell_type": "markdown",
   "id": "035f18af-966e-4e59-9e2c-a639678a43eb",
   "metadata": {},
   "source": [
    "When we subset and save into a new variable, whatever change we make to the new variable also affects the parent array. To prevent this, we use the copy function. It can also be used as a method."
   ]
  },
  {
   "cell_type": "code",
   "execution_count": 127,
   "id": "b5305858-1292-4e55-8aae-79128f7e67f0",
   "metadata": {},
   "outputs": [],
   "source": [
    "w[1,1] = 333"
   ]
  },
  {
   "cell_type": "code",
   "execution_count": 128,
   "id": "8705484a-9832-45f7-b5ae-86ddf79cd731",
   "metadata": {},
   "outputs": [
    {
     "data": {
      "text/plain": [
       "array([[  7,   8,   9],\n",
       "       [ 12, 333,  14],\n",
       "       [ 17,  18,  19]])"
      ]
     },
     "execution_count": 128,
     "metadata": {},
     "output_type": "execute_result"
    }
   ],
   "source": [
    "w"
   ]
  },
  {
   "cell_type": "code",
   "execution_count": 129,
   "id": "005e63ae-3e5d-481a-b059-2c62826200c8",
   "metadata": {},
   "outputs": [
    {
     "data": {
      "text/plain": [
       "array([[  0,   1,   2,   3,   4],\n",
       "       [  5,   6,   7,   8,   9],\n",
       "       [ 10,  11,  12, 333,  14],\n",
       "       [ 15,  16,  17,  18,  19]])"
      ]
     },
     "execution_count": 129,
     "metadata": {},
     "output_type": "execute_result"
    }
   ],
   "source": [
    "e"
   ]
  },
  {
   "cell_type": "code",
   "execution_count": 130,
   "id": "6320ba72-ce8b-4269-86ad-8a306e6d3495",
   "metadata": {},
   "outputs": [],
   "source": [
    "w = e[1:,2:5].copy"
   ]
  },
  {
   "cell_type": "markdown",
   "id": "68707b93-a4f5-41db-9c64-0a37962acc05",
   "metadata": {},
   "source": [
    "We can also use an array as indices to slice an array"
   ]
  },
  {
   "cell_type": "code",
   "execution_count": 131,
   "id": "55600780-c07c-49c1-87a9-36a6a875d972",
   "metadata": {},
   "outputs": [],
   "source": [
    "indices = np.array([1,3])\n",
    "Y = e[indices,:]"
   ]
  },
  {
   "cell_type": "code",
   "execution_count": 132,
   "id": "a6c01cd1-e11f-4cce-9b12-2178a427ebf8",
   "metadata": {},
   "outputs": [
    {
     "data": {
      "text/plain": [
       "array([[ 5,  6,  7,  8,  9],\n",
       "       [15, 16, 17, 18, 19]])"
      ]
     },
     "execution_count": 132,
     "metadata": {},
     "output_type": "execute_result"
    }
   ],
   "source": [
    "Y"
   ]
  },
  {
   "cell_type": "code",
   "execution_count": 133,
   "id": "f8f438da-5596-4d35-addb-2c388e96abe0",
   "metadata": {},
   "outputs": [
    {
     "data": {
      "text/plain": [
       "array([[ 5,  6,  7,  8,  9],\n",
       "       [15, 16, 17, 18, 19]])"
      ]
     },
     "execution_count": 133,
     "metadata": {},
     "output_type": "execute_result"
    }
   ],
   "source": [
    "e[[1,3], :]"
   ]
  },
  {
   "cell_type": "markdown",
   "id": "2a71a7f8-3509-48ec-bd73-0a6cd58e4c1f",
   "metadata": {},
   "source": [
    "Selecting random rows"
   ]
  },
  {
   "cell_type": "code",
   "execution_count": 134,
   "id": "2d48f1ae-3415-4e2c-bc26-bc2b3b15eb64",
   "metadata": {},
   "outputs": [],
   "source": [
    "X = np.random.randint(1,20, size=(50,5))\n",
    "row_indices = np.random.randint(0,50, size=10)\n",
    "X_subset = X[row_indices, :]"
   ]
  },
  {
   "cell_type": "code",
   "execution_count": 135,
   "id": "d1bbcdb9-917b-4177-9155-9be20eadc0f0",
   "metadata": {},
   "outputs": [
    {
     "data": {
      "text/plain": [
       "array([[ 6, 19, 12, 17, 19],\n",
       "       [19,  1, 16, 16,  4],\n",
       "       [19,  3,  6, 10, 17],\n",
       "       [ 8, 10, 10, 15, 10],\n",
       "       [10, 15,  1, 15, 19],\n",
       "       [ 3,  4,  6, 13,  5],\n",
       "       [ 3, 18,  9, 17, 10],\n",
       "       [ 9,  2, 16, 19, 13],\n",
       "       [11, 17, 17,  9, 14],\n",
       "       [19,  3,  6, 10, 17]])"
      ]
     },
     "execution_count": 135,
     "metadata": {},
     "output_type": "execute_result"
    }
   ],
   "source": [
    "X_subset"
   ]
  },
  {
   "cell_type": "markdown",
   "id": "723aa744-b720-4eb4-bdfe-21f6bf99c3da",
   "metadata": {},
   "source": [
    "When trying to get a single column, it might not be presented as a column. You'll need to use the :"
   ]
  },
  {
   "cell_type": "code",
   "execution_count": 137,
   "id": "ed424d02-4830-4f28-b5b3-eedbb8ade252",
   "metadata": {},
   "outputs": [
    {
     "data": {
      "text/plain": [
       "array([ 7, 13, 12,  6,  5, 11, 16, 13,  9,  7,  5,  6,  7,  2,  2, 15, 17,\n",
       "        9,  1, 11,  2,  5, 10,  7, 19,  1,  6, 19, 16, 17, 19, 14, 16, 10,\n",
       "        5, 12, 16, 11, 16, 10, 15,  4, 11,  5, 19, 17, 19,  6,  3,  3])"
      ]
     },
     "execution_count": 137,
     "metadata": {},
     "output_type": "execute_result"
    }
   ],
   "source": [
    "q = X[:,2]\n",
    "q"
   ]
  },
  {
   "cell_type": "code",
   "execution_count": 138,
   "id": "8457d4d9-d5dd-4f54-aed3-e279ae8dff17",
   "metadata": {},
   "outputs": [
    {
     "data": {
      "text/plain": [
       "array([[ 7],\n",
       "       [13],\n",
       "       [12],\n",
       "       [ 6],\n",
       "       [ 5],\n",
       "       [11],\n",
       "       [16],\n",
       "       [13],\n",
       "       [ 9],\n",
       "       [ 7],\n",
       "       [ 5],\n",
       "       [ 6],\n",
       "       [ 7],\n",
       "       [ 2],\n",
       "       [ 2],\n",
       "       [15],\n",
       "       [17],\n",
       "       [ 9],\n",
       "       [ 1],\n",
       "       [11],\n",
       "       [ 2],\n",
       "       [ 5],\n",
       "       [10],\n",
       "       [ 7],\n",
       "       [19],\n",
       "       [ 1],\n",
       "       [ 6],\n",
       "       [19],\n",
       "       [16],\n",
       "       [17],\n",
       "       [19],\n",
       "       [14],\n",
       "       [16],\n",
       "       [10],\n",
       "       [ 5],\n",
       "       [12],\n",
       "       [16],\n",
       "       [11],\n",
       "       [16],\n",
       "       [10],\n",
       "       [15],\n",
       "       [ 4],\n",
       "       [11],\n",
       "       [ 5],\n",
       "       [19],\n",
       "       [17],\n",
       "       [19],\n",
       "       [ 6],\n",
       "       [ 3],\n",
       "       [ 3]])"
      ]
     },
     "execution_count": 138,
     "metadata": {},
     "output_type": "execute_result"
    }
   ],
   "source": [
    "R = X[:,2:3]\n",
    "R"
   ]
  },
  {
   "cell_type": "markdown",
   "id": "76583e49-443b-4f8f-9ad3-d3436f784b02",
   "metadata": {},
   "source": [
    "We can extract the elements along the diagonal of a NumPy array by using the diag function. It takes the optional argument k to select above or below the main diagonal"
   ]
  },
  {
   "cell_type": "code",
   "execution_count": 139,
   "id": "8228f61b-57b1-4c8e-84f7-e07fcec3b1f9",
   "metadata": {},
   "outputs": [
    {
     "data": {
      "text/plain": [
       "array([[  0,   1,   2,   3,   4],\n",
       "       [  5,   6,   7,   8,   9],\n",
       "       [ 10,  11,  12, 333,  14],\n",
       "       [ 15,  16,  17,  18,  19]])"
      ]
     },
     "execution_count": 139,
     "metadata": {},
     "output_type": "execute_result"
    }
   ],
   "source": [
    "e"
   ]
  },
  {
   "cell_type": "code",
   "execution_count": 140,
   "id": "32008abf-caad-4882-ab8e-28f566006aab",
   "metadata": {},
   "outputs": [
    {
     "data": {
      "text/plain": [
       "array([[10,  0,  0,  0],\n",
       "       [ 0, 20,  0,  0],\n",
       "       [ 0,  0, 30,  0],\n",
       "       [ 0,  0,  0, 40]])"
      ]
     },
     "execution_count": 140,
     "metadata": {},
     "output_type": "execute_result"
    }
   ],
   "source": [
    "np.diag([10, 20, 30, 40])"
   ]
  },
  {
   "cell_type": "code",
   "execution_count": 141,
   "id": "9bab2c7c-1fd0-4cb9-99fa-f37bfb368747",
   "metadata": {},
   "outputs": [
    {
     "data": {
      "text/plain": [
       "array([ 0,  6, 12, 18])"
      ]
     },
     "execution_count": 141,
     "metadata": {},
     "output_type": "execute_result"
    }
   ],
   "source": [
    "np.diag(e)"
   ]
  },
  {
   "cell_type": "code",
   "execution_count": 142,
   "id": "6cdf0e85-ebf6-4e97-9b04-e3a2a544fc9e",
   "metadata": {},
   "outputs": [
    {
     "data": {
      "text/plain": [
       "array([  1,   7, 333,  19])"
      ]
     },
     "execution_count": 142,
     "metadata": {},
     "output_type": "execute_result"
    }
   ],
   "source": [
    "np.diag(e, k=1)"
   ]
  },
  {
   "cell_type": "code",
   "execution_count": 143,
   "id": "dc74ffdb-5779-4853-b308-887df793a09d",
   "metadata": {},
   "outputs": [
    {
     "data": {
      "text/plain": [
       "array([ 5, 11, 17])"
      ]
     },
     "execution_count": 143,
     "metadata": {},
     "output_type": "execute_result"
    }
   ],
   "source": [
    "np.diag(e, k=-1)"
   ]
  },
  {
   "cell_type": "markdown",
   "id": "bcca60f6-dc34-4528-ad0d-b8e14cc8abc4",
   "metadata": {},
   "source": [
    "We can also obtain the unique elements in a NumPy array by using the unique function"
   ]
  },
  {
   "cell_type": "code",
   "execution_count": 145,
   "id": "75bf04fb-2bd9-4abe-9cbb-d8ddc66f979e",
   "metadata": {},
   "outputs": [
    {
     "data": {
      "text/plain": [
       "array([[  0,   1,   2,   3,   4],\n",
       "       [  5,   6,   7,   8,   9],\n",
       "       [ 10,  11,  12, 333,  14],\n",
       "       [ 15,  16,  17,  18,  19]])"
      ]
     },
     "execution_count": 145,
     "metadata": {},
     "output_type": "execute_result"
    }
   ],
   "source": [
    "e"
   ]
  },
  {
   "cell_type": "code",
   "execution_count": 146,
   "id": "d9783ddb-c771-445a-8fd3-679270df1f88",
   "metadata": {},
   "outputs": [
    {
     "data": {
      "text/plain": [
       "array([  0,   1,   2,   3,   4,   5,   6,   7,   8,   9,  10,  11,  12,\n",
       "        14,  15,  16,  17,  18,  19, 333])"
      ]
     },
     "execution_count": 146,
     "metadata": {},
     "output_type": "execute_result"
    }
   ],
   "source": [
    "np.unique(e)"
   ]
  },
  {
   "cell_type": "markdown",
   "id": "a00044cf-36cf-4d3b-aadc-7cd42dce3b74",
   "metadata": {},
   "source": [
    "#### Boolean Indexing, Set Operations, and Sorting"
   ]
  },
  {
   "cell_type": "code",
   "execution_count": 147,
   "id": "ba3dc997-4d0a-4d83-a0bf-08893f13b6b4",
   "metadata": {},
   "outputs": [
    {
     "data": {
      "text/plain": [
       "array([[  0,   1,   2,   3,   4],\n",
       "       [  5,   6,   7,   8,   9],\n",
       "       [ 10,  11,  12, 333,  14],\n",
       "       [ 15,  16,  17,  18,  19]])"
      ]
     },
     "execution_count": 147,
     "metadata": {},
     "output_type": "execute_result"
    }
   ],
   "source": [
    "e"
   ]
  },
  {
   "cell_type": "code",
   "execution_count": 148,
   "id": "0e838e35-11e0-4677-9b8a-a20f8bd0cc33",
   "metadata": {},
   "outputs": [
    {
     "data": {
      "text/plain": [
       "array([ 11,  12, 333,  14,  15,  16,  17,  18,  19])"
      ]
     },
     "execution_count": 148,
     "metadata": {},
     "output_type": "execute_result"
    }
   ],
   "source": [
    "e[e > 10]"
   ]
  },
  {
   "cell_type": "code",
   "execution_count": 151,
   "id": "5a282b27-873c-4e15-8c45-bbdaf64f9cbf",
   "metadata": {},
   "outputs": [
    {
     "data": {
      "text/plain": [
       "array([11, 12, 14])"
      ]
     },
     "execution_count": 151,
     "metadata": {},
     "output_type": "execute_result"
    }
   ],
   "source": [
    "e[(e > 10) & (e < 15)]"
   ]
  },
  {
   "cell_type": "markdown",
   "id": "641c6d65-63fa-4c07-b501-0c8b24aedc8e",
   "metadata": {},
   "source": [
    "We can also use boolean indexing for assignment\n"
   ]
  },
  {
   "cell_type": "code",
   "execution_count": 153,
   "id": "0008611e-b21e-43ea-9b7e-7bb9fda0896c",
   "metadata": {},
   "outputs": [],
   "source": [
    "e[(e > 10) & (e < 15)] = 12"
   ]
  },
  {
   "cell_type": "code",
   "execution_count": 154,
   "id": "c8faf2de-2bdc-4c6a-b165-501648bfebc2",
   "metadata": {},
   "outputs": [
    {
     "data": {
      "text/plain": [
       "array([[  0,   1,   2,   3,   4],\n",
       "       [  5,   6,   7,   8,   9],\n",
       "       [ 10,  12,  12, 333,  12],\n",
       "       [ 15,  16,  17,  18,  19]])"
      ]
     },
     "execution_count": 154,
     "metadata": {},
     "output_type": "execute_result"
    }
   ],
   "source": [
    "e"
   ]
  },
  {
   "cell_type": "markdown",
   "id": "8fae58bb-4443-4e43-bfe2-fd625c20d6b4",
   "metadata": {},
   "source": [
    "Set operations using NumPy arrays"
   ]
  },
  {
   "cell_type": "code",
   "execution_count": 155,
   "id": "cd84909d-9d4c-43ee-8f85-e6d540c12257",
   "metadata": {},
   "outputs": [
    {
     "data": {
      "text/plain": [
       "array([[  0,   1,   2,   3,   4],\n",
       "       [  5,   6,   7,   8,   9],\n",
       "       [ 10,  12,  12, 333,  12],\n",
       "       [ 15,  16,  17,  18,  19]])"
      ]
     },
     "execution_count": 155,
     "metadata": {},
     "output_type": "execute_result"
    }
   ],
   "source": [
    "e"
   ]
  },
  {
   "cell_type": "code",
   "execution_count": 156,
   "id": "adc2e63d-5dbd-4541-9e11-54e765c477a4",
   "metadata": {},
   "outputs": [
    {
     "data": {
      "text/plain": [
       "array([[ 1,  2,  3],\n",
       "       [ 4, 39, 28],\n",
       "       [ 7,  8,  9]])"
      ]
     },
     "execution_count": 156,
     "metadata": {},
     "output_type": "execute_result"
    }
   ],
   "source": [
    "y"
   ]
  },
  {
   "cell_type": "code",
   "execution_count": 159,
   "id": "9ba92471-333f-44d8-94b5-968a2d1e4b24",
   "metadata": {},
   "outputs": [
    {
     "name": "stdout",
     "output_type": "stream",
     "text": [
      "[1 2 3 4 7 8 9]\n",
      "[  0   5   6  10  12  15  16  17  18  19 333]\n",
      "[  0   1   2   3   4   5   6   7   8   9  10  12  15  16  17  18  19  28\n",
      "  39 333]\n"
     ]
    }
   ],
   "source": [
    "print(np.intersect1d(e, y))\n",
    "print(np.setdiff1d(e, y))\n",
    "print(np.union1d(e, y))"
   ]
  },
  {
   "cell_type": "markdown",
   "id": "6fda8394-a33f-4bd7-a968-b3c66bd99b5a",
   "metadata": {},
   "source": [
    "NumPy also allows sorting its elements by using sort either as a method or as a function\n",
    "As a function, the array is sorted out of place\n",
    "As a method, the array is sorted in place"
   ]
  },
  {
   "cell_type": "markdown",
   "id": "b8321ff5-9344-478e-83db-dcbb065d4df5",
   "metadata": {},
   "source": [
    "N/B: All the powerful scientific computations possible with arrays is what makes storing our elements in arrays so catchy"
   ]
  },
  {
   "cell_type": "code",
   "execution_count": 161,
   "id": "0adf7ea6-ba27-49e8-bf94-6624c28560a7",
   "metadata": {},
   "outputs": [
    {
     "data": {
      "text/plain": [
       "array([[  0,   1,   2,   3,   4],\n",
       "       [  5,   6,   7,   8,   9],\n",
       "       [ 10,  12,  12,  12, 333],\n",
       "       [ 15,  16,  17,  18,  19]])"
      ]
     },
     "execution_count": 161,
     "metadata": {},
     "output_type": "execute_result"
    }
   ],
   "source": [
    "np.sort(e)"
   ]
  },
  {
   "cell_type": "code",
   "execution_count": 162,
   "id": "edae02b4-dade-45b1-8b31-6b16c7ca8d9c",
   "metadata": {},
   "outputs": [],
   "source": [
    "e.sort()"
   ]
  },
  {
   "cell_type": "code",
   "execution_count": 163,
   "id": "80851787-b1c4-40ca-a0e5-01d03911f3f0",
   "metadata": {},
   "outputs": [
    {
     "data": {
      "text/plain": [
       "array([[  0,   1,   2,   3,   4],\n",
       "       [  5,   6,   7,   8,   9],\n",
       "       [ 10,  12,  12,  12, 333],\n",
       "       [ 15,  16,  17,  18,  19]])"
      ]
     },
     "execution_count": 163,
     "metadata": {},
     "output_type": "execute_result"
    }
   ],
   "source": [
    "e"
   ]
  },
  {
   "cell_type": "code",
   "execution_count": 165,
   "id": "78582bc5-9d6a-478f-aa74-6e222f955bb7",
   "metadata": {},
   "outputs": [
    {
     "data": {
      "text/plain": [
       "array([[ 1,  2,  3],\n",
       "       [ 4,  8,  9],\n",
       "       [ 7, 39, 28]])"
      ]
     },
     "execution_count": 165,
     "metadata": {},
     "output_type": "execute_result"
    }
   ],
   "source": [
    "# for rank 2 arrays, we can also set axis\n",
    "np.sort(y, axis=0)"
   ]
  },
  {
   "cell_type": "code",
   "execution_count": 166,
   "id": "8c6654c2-c419-4584-85c2-687187a9b6e5",
   "metadata": {},
   "outputs": [
    {
     "data": {
      "text/plain": [
       "array([[ 1,  2,  3],\n",
       "       [ 4, 28, 39],\n",
       "       [ 7,  8,  9]])"
      ]
     },
     "execution_count": 166,
     "metadata": {},
     "output_type": "execute_result"
    }
   ],
   "source": [
    "np.sort(y, axis=1)"
   ]
  },
  {
   "cell_type": "markdown",
   "id": "10e48832-9868-403b-9543-8eafef8c77fc",
   "metadata": {},
   "source": [
    "#### Arithmetic Operations"
   ]
  },
  {
   "cell_type": "code",
   "execution_count": 167,
   "id": "3997a4d9-7f4b-47b9-bc6b-4ff7f3450a20",
   "metadata": {},
   "outputs": [
    {
     "data": {
      "text/plain": [
       "array([[  0,   1,   2,   3,   4],\n",
       "       [  5,   6,   7,   8,   9],\n",
       "       [ 10,  12,  12,  12, 333],\n",
       "       [ 15,  16,  17,  18,  19]])"
      ]
     },
     "execution_count": 167,
     "metadata": {},
     "output_type": "execute_result"
    }
   ],
   "source": [
    "e"
   ]
  },
  {
   "cell_type": "code",
   "execution_count": 168,
   "id": "91b205ed-d9f1-44c4-87bd-1fd774314376",
   "metadata": {},
   "outputs": [
    {
     "data": {
      "text/plain": [
       "array([[ 1,  2,  3],\n",
       "       [ 4, 39, 28],\n",
       "       [ 7,  8,  9]])"
      ]
     },
     "execution_count": 168,
     "metadata": {},
     "output_type": "execute_result"
    }
   ],
   "source": [
    "y"
   ]
  },
  {
   "cell_type": "code",
   "execution_count": 170,
   "id": "34ee97d3-e4e8-4f58-b479-20957805ada4",
   "metadata": {},
   "outputs": [],
   "source": [
    "x = np.array([1,2,3,4])\n",
    "y = np.array([5.5,6.5,7.5,8.5])"
   ]
  },
  {
   "cell_type": "code",
   "execution_count": 171,
   "id": "a26f5ce8-405c-4019-b1a0-3018d642ee85",
   "metadata": {},
   "outputs": [
    {
     "data": {
      "text/plain": [
       "array([-4.5, -4.5, -4.5, -4.5])"
      ]
     },
     "execution_count": 171,
     "metadata": {},
     "output_type": "execute_result"
    }
   ],
   "source": [
    "x - y"
   ]
  },
  {
   "cell_type": "code",
   "execution_count": 172,
   "id": "2f4e1d99-5574-4097-8df7-4d497f9b22ad",
   "metadata": {},
   "outputs": [
    {
     "data": {
      "text/plain": [
       "array([ 6.5,  8.5, 10.5, 12.5])"
      ]
     },
     "execution_count": 172,
     "metadata": {},
     "output_type": "execute_result"
    }
   ],
   "source": [
    "np.add(x,y)"
   ]
  },
  {
   "cell_type": "code",
   "execution_count": 173,
   "id": "f9234115-5f08-487d-a26c-68f354b71112",
   "metadata": {},
   "outputs": [],
   "source": [
    "# np.add, np.subtract, np.divide, np.multiply"
   ]
  },
  {
   "cell_type": "code",
   "execution_count": 174,
   "id": "00085036-f18f-449f-9045-b2de59208792",
   "metadata": {},
   "outputs": [],
   "source": [
    "X = np.array([1,2,3,4]).reshape(2,2)\n",
    "Y = np.array([5.5,6.5,7.5,8.5]).reshape(2,2)"
   ]
  },
  {
   "cell_type": "code",
   "execution_count": 176,
   "id": "751120b2-b1e2-4aa5-ad25-30534e55dbde",
   "metadata": {},
   "outputs": [
    {
     "data": {
      "text/plain": [
       "array([ 1,  4,  9, 16], dtype=int32)"
      ]
     },
     "execution_count": 176,
     "metadata": {},
     "output_type": "execute_result"
    }
   ],
   "source": [
    "np.exp(x)\n",
    "np.sqrt(x)\n",
    "np.power(x,2)"
   ]
  },
  {
   "cell_type": "markdown",
   "id": "e9dfd149-84fb-421b-af73-cd8b1536a801",
   "metadata": {},
   "source": [
    "NumPy also has some functions for statistical function\n",
    "* np.sum()\n",
    "* np.mean()\n",
    "* np.std()\n",
    "* np.min()\n",
    "* np.max()"
   ]
  },
  {
   "cell_type": "code",
   "execution_count": 179,
   "id": "9fe8fccc-a6b7-451d-aa3b-27af4f916ae7",
   "metadata": {},
   "outputs": [
    {
     "data": {
      "text/plain": [
       "array([[  3,   4,   5,   6,   7],\n",
       "       [  8,   9,  10,  11,  12],\n",
       "       [ 13,  15,  15,  15, 336],\n",
       "       [ 18,  19,  20,  21,  22]])"
      ]
     },
     "execution_count": 179,
     "metadata": {},
     "output_type": "execute_result"
    }
   ],
   "source": [
    "np.add(e, 3)"
   ]
  },
  {
   "cell_type": "code",
   "execution_count": 180,
   "id": "0f1ec08c-c0fe-4591-8f48-552bcf2fe3b2",
   "metadata": {},
   "outputs": [
    {
     "data": {
      "text/plain": [
       "array([[  0,   1,   2,   3,   4],\n",
       "       [  5,   6,   7,   8,   9],\n",
       "       [ 10,  12,  12,  12, 333],\n",
       "       [ 15,  16,  17,  18,  19]])"
      ]
     },
     "execution_count": 180,
     "metadata": {},
     "output_type": "execute_result"
    }
   ],
   "source": [
    "e"
   ]
  },
  {
   "cell_type": "code",
   "execution_count": null,
   "id": "01d5b035-16b5-4aed-9be0-f1e22a4765dc",
   "metadata": {},
   "outputs": [],
   "source": []
  }
 ],
 "metadata": {
  "kernelspec": {
   "display_name": "Python 3 (ipykernel)",
   "language": "python",
   "name": "python3"
  },
  "language_info": {
   "codemirror_mode": {
    "name": "ipython",
    "version": 3
   },
   "file_extension": ".py",
   "mimetype": "text/x-python",
   "name": "python",
   "nbconvert_exporter": "python",
   "pygments_lexer": "ipython3",
   "version": "3.12.3"
  }
 },
 "nbformat": 4,
 "nbformat_minor": 5
}
