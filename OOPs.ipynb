{
 "cells": [
  {
   "cell_type": "markdown",
   "id": "fd22c102-6c06-45d0-aebd-bc057866da25",
   "metadata": {},
   "source": [
    "# Object Oriented Programming"
   ]
  },
  {
   "cell_type": "markdown",
   "id": "736e34f9-f111-4083-8e14-50297aca05fd",
   "metadata": {},
   "source": [
    " Every data type is just an instance of a class.\n",
    " We can create a class and have several methods and instances belonging to it. "
   ]
  },
  {
   "cell_type": "code",
   "execution_count": 32,
   "id": "78a5e6ad-238c-48a4-8f15-a5066112cd8c",
   "metadata": {},
   "outputs": [],
   "source": [
    "class Item:\n",
    "    pass\n",
    "\n",
    "#creating an instance of a class. A class when instantiated has all its code executed to achieve a desired result.\n",
    "#It is like calling a function. e.g random_str = str(4). runs everything attached to the built-in function str() and makes the conversion to a string\n",
    "# We can assign attributes to instances of a class using the dot notation \n",
    "\n",
    "item1 = Item()\n",
    "item1.name = \"Phone\"\n",
    "item1.price = 100\n",
    "item1.quantity = 5\n",
    "#a relationship now exists between the instance and the attributes\n"
   ]
  },
  {
   "cell_type": "code",
   "execution_count": 33,
   "id": "4cdf9c90-df1b-4428-a1d6-b020e4290153",
   "metadata": {},
   "outputs": [
    {
     "name": "stdout",
     "output_type": "stream",
     "text": [
      "<class '__main__.Item'>\n",
      "<class 'str'>\n",
      "<class 'int'>\n",
      "<class 'int'>\n"
     ]
    }
   ],
   "source": [
    "print(type(item1)) \n",
    "print(type(item1.name))\n",
    "print(type(item1.price)) \n",
    "print(type(item1.quantity))"
   ]
  },
  {
   "cell_type": "markdown",
   "id": "9df787d4-ef29-4d96-956d-2a7ca6b0a5cf",
   "metadata": {},
   "source": [
    " Just as we had methods for instances of a string, we can also create methods for our instances.\n",
    " Methods are functions that are written inside our classes but accessed via dot notation.\n",
    " The self parameter is always the first argument because Python always passes the object as the first argument"
   ]
  },
  {
   "cell_type": "code",
   "execution_count": 36,
   "id": "a39c734b-8d6b-4b15-bc93-2a0affa7fd7d",
   "metadata": {},
   "outputs": [],
   "source": [
    "class Item:\n",
    "    def calculate_total_price(self, x, y):\n",
    "        return x * y\n",
    "\n",
    "item1 = Item()\n",
    "item1.name = \"Phone\"\n",
    "item1.price = 100\n",
    "item1.quantity = 5\n",
    "\n",
    "item2 = Item()\n",
    "item2.name = \"Laptop\"\n",
    "item2.price = 1000\n",
    "item2.quantity = 3"
   ]
  },
  {
   "cell_type": "code",
   "execution_count": 38,
   "id": "5d0215d2-34f2-43ea-8267-523377ad7242",
   "metadata": {},
   "outputs": [
    {
     "data": {
      "text/plain": [
       "500"
      ]
     },
     "execution_count": 38,
     "metadata": {},
     "output_type": "execute_result"
    }
   ],
   "source": [
    "item1.calculate_total_price(item1.price, item1.quantity)"
   ]
  },
  {
   "cell_type": "markdown",
   "id": "15ff753b-fb00-45bc-80ed-03eb97adfac9",
   "metadata": {},
   "source": [
    "What if we can create atrributes for a class such that anytime we instantiate an object, it takes on the attributes and the values have to be passed in as argument"
   ]
  },
  {
   "cell_type": "code",
   "execution_count": 41,
   "id": "b4755fef-9627-4ea4-9ea1-f8784c227a9f",
   "metadata": {},
   "outputs": [],
   "source": [
    "class Item:\n",
    "    def __init__(self, ):\n",
    "        pass\n",
    "    def calculate_total_score(self, x, y):\n",
    "        return x * y\n",
    "\n",
    "# __init__ is one of several magic methods\n",
    "# whenever we create a class, Python executes the block of code in the __init__() magic method"
   ]
  },
  {
   "cell_type": "code",
   "execution_count": 42,
   "id": "d1c61d64-cffa-45d8-9c24-7ce91f70f742",
   "metadata": {},
   "outputs": [
    {
     "name": "stdout",
     "output_type": "stream",
     "text": [
      "I am created\n"
     ]
    }
   ],
   "source": [
    "class Item:\n",
    "    def __init__(self):\n",
    "        print(\"I am created\")\n",
    "    def calculate_total_score(self, x, y):\n",
    "        return x * y\n",
    "\n",
    "item1 = Item()"
   ]
  },
  {
   "cell_type": "markdown",
   "id": "a74d0df3-cc4e-4340-afe1-8a2ea396b070",
   "metadata": {},
   "source": [
    "To state that an attribute is equal to whatever I pass in as parameter, I have to do the attribute hard-coding and assign the parameter to it within the __init__ magic method!"
   ]
  },
  {
   "cell_type": "code",
   "execution_count": 48,
   "id": "64972328-d164-4cc5-9b9c-d8e356ec054d",
   "metadata": {},
   "outputs": [
    {
     "data": {
      "text/plain": [
       "3000"
      ]
     },
     "execution_count": 48,
     "metadata": {},
     "output_type": "execute_result"
    }
   ],
   "source": [
    " class Item:\n",
    "    def __init__(self, name, quantity, price = 0):\n",
    "        self.name = name\n",
    "        self.quantity = quantity\n",
    "        self.price = price\n",
    "        \n",
    "    def calculate_total_price(self):\n",
    "        return self.price * self.quantity\n",
    "\n",
    "item1 = Item(\"Phone\", 100, 5)\n",
    "\n",
    "item2 = Item(\"Laptop\", 1000, 3)\n",
    "item2.calculate_total_price()"
   ]
  },
  {
   "cell_type": "code",
   "execution_count": 46,
   "id": "6d685b4e-7604-4992-83c2-2215c8443391",
   "metadata": {},
   "outputs": [
    {
     "name": "stdout",
     "output_type": "stream",
     "text": [
      "Phone 5 100\n",
      "Laptop 3 1000\n"
     ]
    }
   ],
   "source": [
    "print(item1.name, item1.price, item1.quantity)\n",
    "print(item2.name, item2.price, item2.quantity)"
   ]
  },
  {
   "cell_type": "code",
   "execution_count": 79,
   "id": "3a2b9903-a81f-4234-b053-479ae441d1a6",
   "metadata": {},
   "outputs": [],
   "source": [
    "# We can have mandatory and non-mandatory parameters. This means we can set a default parameter\n",
    "# def __init__(self, name, quantity, price = 0):\n",
    "# To set an attribute for only one object, you can hard-code it\n",
    "# item2 = Item(\"Laptop\", 1000, 3)\n",
    "# item2.numpad = False"
   ]
  },
  {
   "cell_type": "markdown",
   "id": "4e61417c-0e60-4c17-a318-1e6b7dca3c7f",
   "metadata": {},
   "source": [
    "We can ensure that a parameter is of a particular data type"
   ]
  },
  {
   "cell_type": "code",
   "execution_count": 49,
   "id": "9fc077ff-1c79-4f53-a45f-23385dbd90a2",
   "metadata": {},
   "outputs": [],
   "source": [
    " class Item:\n",
    "    def __init__(self, name: str, quantity: int, price: float):\n",
    "        self.name = name\n",
    "        self.quantity = quantity\n",
    "        self.price = price\n",
    "        \n",
    "    def calculate_total_price(self):\n",
    "        return self.price * self.quantity\n",
    "\n",
    "item1 = Item(\"Phone\", 100, 5)\n",
    "\n",
    "item2 = Item(\"Laptop\", 1000, 3)"
   ]
  },
  {
   "cell_type": "markdown",
   "id": "9a0faae6-9ea0-489a-997c-5292dddfaed5",
   "metadata": {},
   "source": [
    "To ensure that no negative number is received, you can use assert"
   ]
  },
  {
   "cell_type": "code",
   "execution_count": 54,
   "id": "e9623f57-ab7e-45de-883f-feafc5d24b2c",
   "metadata": {},
   "outputs": [],
   "source": [
    " class Item:\n",
    "    def __init__(self, name: str, quantity: int, price: float):\n",
    "        # Run validations. 1 with optional argument\n",
    "        assert price >= 0, f\"Price {price} is not greater than zero!\"\n",
    "        assert quantity >= 0\n",
    "        # Assign parameters to attributes \n",
    "        self.name = name\n",
    "        self.quantity = quantity\n",
    "        self.price = price\n",
    "        \n",
    "    def calculate_total_price(self):\n",
    "        return self.price * self.quantity\n",
    "\n",
    "item1 = Item(\"Phone\", 100, 5)\n",
    "\n",
    "item2 = Item(\"Laptop\", 1000, 3) "
   ]
  },
  {
   "cell_type": "markdown",
   "id": "da9402d8-5b3a-4233-a027-9a027729109e",
   "metadata": {},
   "source": [
    "Class attributes and Instance attributes.\n",
    "Instance attributes are available for the instaces created and can be passed as parameters. However, what if you want an attribute that you can call for specific objects without having to set it as a parameter. It is just optional. This is where we have class attributes. These class attributes are available globally"
   ]
  },
  {
   "cell_type": "code",
   "execution_count": 57,
   "id": "948ec1d0-40b5-4b9f-8dd8-0728709a942a",
   "metadata": {},
   "outputs": [
    {
     "name": "stdout",
     "output_type": "stream",
     "text": [
      "0.8\n",
      "0.8\n"
     ]
    }
   ],
   "source": [
    "class Item:\n",
    "    pay_rate = 0.8\n",
    "    def __init__(self, name: str, quantity: int, price: float):\n",
    "        # Run validations. 1 with optional argument\n",
    "        assert price >= 0, f\"Price {price} is not greater than zero!\"\n",
    "        assert quantity >= 0\n",
    "        # Assign parameters to attributes \n",
    "        self.name = name\n",
    "        self.quantity = quantity\n",
    "        self.price = price\n",
    "        \n",
    "    def calculate_total_price(self):\n",
    "        return self.price * self.quantity\n",
    "\n",
    "item1 = Item(\"Phone\", 100, 5)\n",
    "print(Item.pay_rate)\n",
    "print(item1.pay_rate)"
   ]
  },
  {
   "cell_type": "markdown",
   "id": "44ae5180-6b71-487d-ba29-060e076c3911",
   "metadata": {},
   "source": [
    "To see all the attributes available to a class, use the built-in magic attribute '__dict__'"
   ]
  },
  {
   "cell_type": "code",
   "execution_count": 58,
   "id": "34122d43-53ef-4a4b-81ed-905bb44b8f62",
   "metadata": {},
   "outputs": [
    {
     "name": "stdout",
     "output_type": "stream",
     "text": [
      "{'__module__': '__main__', 'pay_rate': 0.8, '__init__': <function Item.__init__ at 0x000001E85772AB60>, 'calculate_total_price': <function Item.calculate_total_price at 0x000001E85772B560>, '__dict__': <attribute '__dict__' of 'Item' objects>, '__weakref__': <attribute '__weakref__' of 'Item' objects>, '__doc__': None}\n",
      "{'name': 'Phone', 'quantity': 100, 'price': 5}\n"
     ]
    }
   ],
   "source": [
    "print(Item.__dict__)\n",
    "print(item1.__dict__)"
   ]
  },
  {
   "cell_type": "code",
   "execution_count": 1,
   "id": "20019960-6443-4d86-a866-483dd4b42edf",
   "metadata": {},
   "outputs": [
    {
     "data": {
      "text/plain": [
       "350.0"
      ]
     },
     "execution_count": 1,
     "metadata": {},
     "output_type": "execute_result"
    }
   ],
   "source": [
    "class Item:\n",
    "    pay_rate = 0.8\n",
    "    def __init__(self, name: str, quantity: int, price: float):\n",
    "        # Run validations. 1 with optional argument\n",
    "        assert price >= 0, f\"Price {price} is not greater than zero!\"\n",
    "        assert quantity >= 0\n",
    "        # Assign parameters to attributes \n",
    "        self.name = name\n",
    "        self.quantity = quantity\n",
    "        self.price = price\n",
    "\n",
    "    def apply_discount(self):\n",
    "        self.price *= self.pay_rate\n",
    "        \n",
    "    def calculate_total_price(self):\n",
    "        return self.price * self.quantity\n",
    "\n",
    "item1 = Item(\"Phone\", 100, 5)\n",
    "# to overwrite and set a different pay_rate only for item1\n",
    "item1.pay_rate = 0.7\n",
    "item1.apply_discount()\n",
    "item1.calculate_total_price()\n"
   ]
  },
  {
   "cell_type": "markdown",
   "id": "0685d64a-ebf1-42c9-a022-03e7a8b438f9",
   "metadata": {},
   "source": [
    "We can create a list that houses all of our objects/instances. This can be done by creating an empty list and appending to it everytime we instantiate an object. Since everytime we instantiate an object, __init__ block is run. This will allow us see every object instantiated."
   ]
  },
  {
   "cell_type": "code",
   "execution_count": 76,
   "id": "667b13e7-ef56-4ef2-bbf2-ea398f1992e8",
   "metadata": {},
   "outputs": [],
   "source": [
    "class Item:\n",
    "    all = []\n",
    "    pay_rate = 0.8\n",
    "    def __init__(self, name: str, quantity: int, price: float):\n",
    "        # Run validations. 1 with optional argument\n",
    "        assert price >= 0, f\"Price {price} is not greater than zero!\"\n",
    "        assert quantity >= 0\n",
    "        # Assign parameters to attributes \n",
    "        self.name = name\n",
    "        self.quantity = quantity\n",
    "        self.price = price\n",
    "        \n",
    "        Item.all.append(self)\n",
    "    \n",
    "    def apply_discount(self):\n",
    "        self.price *= self.pay_rate\n",
    "        \n",
    "    def calculate_total_price(self):\n",
    "        return self.price * self.quantity\n",
    "\n",
    "item1 = Item(\"Phone\", 100, 1)\n",
    "item2 = Item(\"Laptop\", 1000, 3)\n",
    "item3 = Item(\"Cable\", 10, 5)\n",
    "item4 = Item(\"Mouse\", 50, 5)\n",
    "item5 = Item(\"Keyboard\", 75, 5)"
   ]
  },
  {
   "cell_type": "code",
   "execution_count": 77,
   "id": "1e307e81-6846-46f3-8892-a0139b59bde0",
   "metadata": {},
   "outputs": [
    {
     "data": {
      "text/plain": [
       "[<__main__.Item at 0x1e8567aca40>,\n",
       " <__main__.Item at 0x1e8570eb4a0>,\n",
       " <__main__.Item at 0x1e8570e8410>,\n",
       " <__main__.Item at 0x1e8570eac90>,\n",
       " <__main__.Item at 0x1e857131e80>]"
      ]
     },
     "execution_count": 77,
     "metadata": {},
     "output_type": "execute_result"
    }
   ],
   "source": [
    "Item.all"
   ]
  },
  {
   "cell_type": "markdown",
   "id": "46e89721-1acd-478b-adf9-dd65d733b3b5",
   "metadata": {},
   "source": [
    "We can iterate through the loop and obtain each instances' attribute by using a for loop"
   ]
  },
  {
   "cell_type": "code",
   "execution_count": 78,
   "id": "259a46bd-2c89-4fb3-ac7a-e082dfc8fc69",
   "metadata": {},
   "outputs": [
    {
     "name": "stdout",
     "output_type": "stream",
     "text": [
      "Phone\n",
      "Laptop\n",
      "Cable\n",
      "Mouse\n",
      "Keyboard\n"
     ]
    }
   ],
   "source": [
    "for instance in Item.all:\n",
    "    print(instance.name)"
   ]
  },
  {
   "cell_type": "markdown",
   "id": "5f623660-f01f-4cc5-9a19-d9158f27e3d5",
   "metadata": {},
   "source": [
    "We can see that the contents of Item.all is not readable. So we can represent each element by using the magic method '__repr__'. This would make a 'string' representation of the object everytime an instance is made."
   ]
  },
  {
   "cell_type": "code",
   "execution_count": 2,
   "id": "191d30e7-d83d-432d-9ab4-28f9bc12df54",
   "metadata": {},
   "outputs": [],
   "source": [
    "class Item:\n",
    "    all = []\n",
    "    pay_rate = 0.8\n",
    "    def __init__(self, name: str, quantity: int, price: float):\n",
    "        # Run validations. 1 with optional argument\n",
    "        assert price >= 0, f\"Price {price} is not greater than zero!\"\n",
    "        assert quantity >= 0\n",
    "        # Assign parameters to attributes \n",
    "        self.name = name\n",
    "        self.quantity = quantity\n",
    "        self.price = price\n",
    "        \n",
    "        Item.all.append(self)\n",
    "        \n",
    "    def __repr__(self):\n",
    "        return f\"Item({self.name}, {self.quantity}, {self.price})\"\n",
    "    \n",
    "    def apply_discount(self):\n",
    "        self.price *= self.pay_rate\n",
    "        \n",
    "    def calculate_total_price(self):\n",
    "        return self.price * self.quantity\n",
    "\n",
    "item1 = Item(\"Phone\", 100, 1)\n",
    "item2 = Item(\"Laptop\", 1000, 3)\n",
    "item3 = Item(\"Cable\", 10, 5)\n",
    "item4 = Item(\"Mouse\", 50, 5)\n",
    "item5 = Item(\"Keyboard\", 75, 5)"
   ]
  },
  {
   "cell_type": "code",
   "execution_count": 3,
   "id": "f01c05e2-75ec-4757-9ea5-0a7e6d491c4e",
   "metadata": {},
   "outputs": [
    {
     "data": {
      "text/plain": [
       "[Item(Phone, 100, 1),\n",
       " Item(Laptop, 1000, 3),\n",
       " Item(Cable, 10, 5),\n",
       " Item(Mouse, 50, 5),\n",
       " Item(Keyboard, 75, 5)]"
      ]
     },
     "execution_count": 3,
     "metadata": {},
     "output_type": "execute_result"
    }
   ],
   "source": [
    "Item.all"
   ]
  },
  {
   "cell_type": "code",
   "execution_count": 5,
   "id": "3fca38df-4d9b-461e-902d-24406f1fe5b5",
   "metadata": {},
   "outputs": [
    {
     "name": "stdout",
     "output_type": "stream",
     "text": [
      "Item(Phone, 100, 1)\n",
      "Item(Laptop, 1000, 3)\n",
      "Item(Cable, 10, 5)\n",
      "Item(Mouse, 50, 5)\n",
      "Item(Keyboard, 75, 5)\n"
     ]
    }
   ],
   "source": [
    "for instance in Item.all:\n",
    "    print(instance)"
   ]
  },
  {
   "cell_type": "markdown",
   "id": "99a43841-9c5b-4616-b82b-a57772513369",
   "metadata": {},
   "source": [
    "A Class method is one that can only be accessed from the class level only. It gives us a number of features such as being able to instantiate from data provided in a csv. Decorators in Python allow us to change the behaviour of functions that we write by calling them before/above the function we write. A typical example is creating a class method which can be seen to be written where instance methods are written. In the example, the class argument is passed as first argument ."
   ]
  },
  {
   "cell_type": "code",
   "execution_count": 10,
   "id": "608faa42-7255-4b83-b2f3-d02013bf92a0",
   "metadata": {},
   "outputs": [],
   "source": [
    "import csv\n",
    "\n",
    "class Item:\n",
    "    all = []\n",
    "    pay_rate = 0.8\n",
    "    def __init__(self, name: str, quantity: int, price: float):\n",
    "        # Run validations. 1 with optional argument\n",
    "        assert price >= 0, f\"Price {price} is not greater than zero!\"\n",
    "        assert quantity >= 0\n",
    "        # Assign parameters to attributes \n",
    "        self.name = name\n",
    "        self.quantity = quantity\n",
    "        self.price = price\n",
    "        \n",
    "        Item.all.append(self)\n",
    "        \n",
    "    def __repr__(self):\n",
    "        return f\"Item({self.name}, {self.quantity}, {self.price})\"\n",
    "    \n",
    "    def apply_discount(self):\n",
    "        self.price *= self.pay_rate\n",
    "\n",
    "    @classmethod\n",
    "    def instantiate_from_csv(cls, file_name):\n",
    "        with open(file_name, 'r') as f:\n",
    "            reader = csv.DictReader(f)\n",
    "            items = list(reader)\n",
    "            for item in items:\n",
    "                Item(\n",
    "                    name=item.get('name')), \n",
    "                quantity=float(item.get('quantity')),\n",
    "                price=float(item.get('price')\n",
    "                )\n",
    "        \n",
    "    def calculate_total_price(self):\n",
    "        return self.price * self.quantity"
   ]
  },
  {
   "cell_type": "markdown",
   "id": "680a74d4-17ff-4e5a-a01e-231b6fae1c0a",
   "metadata": {},
   "source": [
    "Static methods: These are functions defined within a class thhat can be called on the class itself, rather than on instances of the class. Example below. These static methods allow us to call a function upon a class without passing the class or instance object. In statics methods, it is different from class methods by not taking the class as first parameter. You can call both class and static methods from the instance level (don't forget)"
   ]
  },
  {
   "cell_type": "code",
   "execution_count": 18,
   "id": "6a3226e8-08f3-4809-8e37-a062742ea179",
   "metadata": {},
   "outputs": [],
   "source": [
    "import csv\n",
    "\n",
    "class Item:\n",
    "    all = []\n",
    "    pay_rate = 0.8\n",
    "    def __init__(self, name: str, quantity: int, price: float):\n",
    "        # Run validations. 1 with optional argument\n",
    "        assert price >= 0, f\"Price {price} is not greater than zero!\"\n",
    "        assert quantity >= 0\n",
    "        # Assign parameters to attributes \n",
    "        self.name = name\n",
    "        self.quantity = quantity\n",
    "        self.price = price\n",
    "        \n",
    "        Item.all.append(self)\n",
    "        \n",
    "    def __repr__(self):\n",
    "        return f\"Item({self.name}, {self.quantity}, {self.price})\"\n",
    "    \n",
    "    def apply_discount(self):\n",
    "        self.price *= self.pay_rate\n",
    "\n",
    "    @classmethod\n",
    "    def instantiate_from_csv(cls, file_name):\n",
    "        with open(file_name, 'r') as f:\n",
    "            reader = csv.DictReader(f)\n",
    "            items = list(reader)\n",
    "            for item in items:\n",
    "                Item(\n",
    "                    name=item.get('name')), \n",
    "                quantity=float(item.get('quantity')),\n",
    "                price=float(item.get('price')\n",
    "                )\n",
    "    @staticmethod\n",
    "    def is_integer(num):\n",
    "        # isinstance is used to check the type of an object\n",
    "        if isinstance(num, float):\n",
    "            return num.is_integer()\n",
    "        elif isinstance(num, int):\n",
    "            return True\n",
    "        else:\n",
    "            return False\n",
    "        \n",
    "    def calculate_total_price(self):\n",
    "        return self.price * self.quantity"
   ]
  },
  {
   "cell_type": "code",
   "execution_count": 19,
   "id": "36f0d26e-b719-4755-ab68-7ae69dd572c4",
   "metadata": {},
   "outputs": [
    {
     "data": {
      "text/plain": [
       "True"
      ]
     },
     "execution_count": 19,
     "metadata": {},
     "output_type": "execute_result"
    }
   ],
   "source": [
    "Item.is_integer(7)"
   ]
  },
  {
   "cell_type": "markdown",
   "id": "7f8ed2f9-9fa5-4eda-8772-dc7f2264c9c4",
   "metadata": {},
   "source": [
    "# PART 2 "
   ]
  },
  {
   "cell_type": "markdown",
   "id": "96f19a95-6d05-4c91-8794-afd439763c34",
   "metadata": {},
   "source": [
    " ### Inheritance"
   ]
  },
  {
   "cell_type": "markdown",
   "id": "566cbc90-f176-4ae6-85af-8f61c538927b",
   "metadata": {},
   "source": [
    "There could be a situation where we have an attribute for one of the items in our class, such as broken_phones. This particular attribute is only limited to the phones instantiated and yet we have not assigned the broken_phones attribute to a self.broken_phones variable in our class. This makes it difficult to write a function within our class that we can use to subtract broken_phones from total quantity. But what if we could create a new class for phone that will inherit all of the funtionality of the class Item. This is where inhherotance comes in. This means the phone class wil inherit all the methods and attributes associated with the Item class."
   ]
  },
  {
   "cell_type": "code",
   "execution_count": 21,
   "id": "dc4a54d9-d7aa-4f94-a29d-201c16e28c6d",
   "metadata": {},
   "outputs": [],
   "source": [
    "class Phone(Item):\n",
    "    pass\n",
    "\n",
    "phone1 = Phone(\"jsdPhone\", 500, 5)\n"
   ]
  },
  {
   "cell_type": "markdown",
   "id": "b6c0deab-b098-42b7-b3cb-0d95a6176b90",
   "metadata": {},
   "source": [
    "You have parent classes and child classes"
   ]
  },
  {
   "cell_type": "markdown",
   "id": "31ee7fa9-dfcb-495b-9055-0b573956554b",
   "metadata": {},
   "source": [
    " To add attributes to the child class:"
   ]
  },
  {
   "cell_type": "code",
   "execution_count": 33,
   "id": "59613baf-3cdb-48c6-8c0a-96876036b654",
   "metadata": {},
   "outputs": [],
   "source": [
    "\n",
    "class Phone(Item):\n",
    "    all = []\n",
    "    def __init__(self, name: str, quantity: int, price: float, broken_phones=0):\n",
    "        # Run validations. 1 with optional argument\n",
    "        assert price >= 0, f\"Price {price} is not greater than zero!\"\n",
    "        assert quantity >= 0\n",
    "        # Assign parameters to attributes \n",
    "        self.name = name\n",
    "        self.quantity = quantity\n",
    "        self.price = price\n",
    "        self.broken_phones = broken_phones\n",
    "        \n",
    "        Phone.all.append(self)\n",
    "\n",
    "phone1 = Phone(\"jsdPhone\", 500, 5, 1)\n"
   ]
  },
  {
   "cell_type": "code",
   "execution_count": 31,
   "id": "78b473b9-5377-42c9-b22b-096bfbae09a4",
   "metadata": {},
   "outputs": [
    {
     "name": "stdout",
     "output_type": "stream",
     "text": [
      "jsdPhone\n"
     ]
    }
   ],
   "source": [
    "print(phone1.name)"
   ]
  },
  {
   "cell_type": "code",
   "execution_count": 32,
   "id": "cfda344b-5bd1-40ff-9797-79a293e6c6dc",
   "metadata": {},
   "outputs": [
    {
     "ename": "AttributeError",
     "evalue": "'Phone' object has no attribute 'calculate_total_price'",
     "output_type": "error",
     "traceback": [
      "\u001b[1;31m---------------------------------------------------------------------------\u001b[0m",
      "\u001b[1;31mAttributeError\u001b[0m                            Traceback (most recent call last)",
      "Cell \u001b[1;32mIn[32], line 1\u001b[0m\n\u001b[1;32m----> 1\u001b[0m \u001b[43mphone1\u001b[49m\u001b[38;5;241;43m.\u001b[39;49m\u001b[43mcalculate_total_price\u001b[49m()\n",
      "\u001b[1;31mAttributeError\u001b[0m: 'Phone' object has no attribute 'calculate_total_price'"
     ]
    }
   ],
   "source": [
    "phone1.calculate_total_price()"
   ]
  },
  {
   "cell_type": "markdown",
   "id": "1c2c7595-d206-4750-bd64-4dab0e052b99",
   "metadata": {},
   "source": [
    "The error above is due to the the child class not being able to access the attributes and methods in the parent class. To solve this, we use the super().__init__(attributes) magic method"
   ]
  },
  {
   "cell_type": "code",
   "execution_count": 39,
   "id": "8359c050-b350-4151-9b66-d66b88cf6a42",
   "metadata": {},
   "outputs": [],
   "source": [
    "\n",
    "class Phone(Item):\n",
    "    all = []\n",
    "    def __init__(self, name: str, quantity: int, price: float, broken_phones=0):\n",
    "        super().__init__(name, quantity, price)\n",
    "            \n",
    "        # Run validations. 1 with optional argument\n",
    "        assert price >= 0, f\"Price {price} is not greater than zero!\"\n",
    "        assert quantity >= 0\n",
    "        # Assign parameters to attributes \n",
    "        self.name = name\n",
    "        self.quantity = quantity\n",
    "        self.price = price\n",
    "        self.broken_phones = broken_phones\n",
    "        \n",
    "        Phone.all.append(self)\n",
    "\n",
    "phone1 = Phone(\"jsdPhone\", 500, 5, 1)\n"
   ]
  },
  {
   "cell_type": "code",
   "execution_count": 40,
   "id": "b41842df-4fe6-4801-b110-4a9822949633",
   "metadata": {},
   "outputs": [
    {
     "data": {
      "text/plain": [
       "2500"
      ]
     },
     "execution_count": 40,
     "metadata": {},
     "output_type": "execute_result"
    }
   ],
   "source": [
    "phone1.calculate_total_price()"
   ]
  },
  {
   "cell_type": "code",
   "execution_count": 41,
   "id": "63b8a102-2b27-428a-a36a-22b56b6b22ec",
   "metadata": {},
   "outputs": [
    {
     "data": {
      "text/plain": [
       "[Item(jsdPhone, 500, 5)]"
      ]
     },
     "execution_count": 41,
     "metadata": {},
     "output_type": "execute_result"
    }
   ],
   "source": [
    "Phone.all   "
   ]
  },
  {
   "cell_type": "markdown",
   "id": "3d2c09ff-d5d2-4a37-9a95-47964627c23a",
   "metadata": {},
   "source": [
    "The above is an issue, so to correct it, we'd have to pass self.__class__.__name__ to the __repr__ magic method"
   ]
  },
  {
   "cell_type": "code",
   "execution_count": 48,
   "id": "46df15ae-8750-4b5f-9f5a-ffcf3989bb97",
   "metadata": {},
   "outputs": [],
   "source": [
    "import csv\n",
    "\n",
    "class Item:\n",
    "    all = []\n",
    "    pay_rate = 0.8\n",
    "    def __init__(self, name: str, quantity: int, price: float):\n",
    "        # Run validations. 1 with optional argument\n",
    "        assert price >= 0, f\"Price {price} is not greater than zero!\"\n",
    "        assert quantity >= 0\n",
    "        # Assign parameters to attributes \n",
    "        self.name = name\n",
    "        self.quantity = quantity\n",
    "        self.price = price\n",
    "        \n",
    "        Item.all.append(self)\n",
    "        \n",
    "    def __repr__(self):\n",
    "        return f\"{self.__class__.__name__}({self.name}, {self.quantity}, {self.price})\"\n",
    "    \n",
    "    def apply_discount(self):\n",
    "        self.price *= self.pay_rate\n",
    "\n",
    "    @classmethod\n",
    "    def instantiate_from_csv(cls, file_name):\n",
    "        with open(file_name, 'r') as f:\n",
    "            reader = csv.DictReader(f)\n",
    "            items = list(reader)\n",
    "            for item in items:\n",
    "                Item(\n",
    "                    name=item.get('name')), \n",
    "                quantity=float(item.get('quantity')),\n",
    "                price=float(item.get('price')\n",
    "                )\n",
    "    @staticmethod\n",
    "    def is_integer(num):\n",
    "        # isinstance is used to check the type of an object\n",
    "        if isinstance(num, float):\n",
    "            return num.is_integer()\n",
    "        elif isinstance(num, int):\n",
    "            return True\n",
    "        else:\n",
    "            return False\n",
    "        \n",
    "    def calculate_total_price(self):\n",
    "        return self.price * self.quantity"
   ]
  },
  {
   "cell_type": "code",
   "execution_count": 66,
   "id": "5939aadc-02db-4cc4-a642-cf95d29f43e9",
   "metadata": {},
   "outputs": [],
   "source": [
    "\n",
    "class Phone(Item):\n",
    "    def __init__(self, name: str, quantity: int, price: float, broken_phones=0):\n",
    "        super().__init__(name, quantity, price)\n",
    "            \n",
    "        # Run validations. 1 with optional argument\n",
    "        assert price >= 0, f\"Price {price} is not greater than zero!\"\n",
    "        assert quantity >= 0\n",
    "        # Assign parameters to attributes \n",
    "        self.name = name\n",
    "        self.quantity = quantity\n",
    "        self.price = price\n",
    "        self.broken_phones = broken_phones\n",
    "        \n",
    "        Phone.all.append(self)\n",
    "\n",
    "phone1 = Phone(\"jsdPhone\", 500, 5, 1)\n"
   ]
  },
  {
   "cell_type": "code",
   "execution_count": 55,
   "id": "17dd0385-d04f-41cd-b005-2dcb59fa983a",
   "metadata": {},
   "outputs": [
    {
     "data": {
      "text/plain": [
       "[Phone(jsdPhone, 500, 5),\n",
       " Phone(jsdPhone, 500, 5),\n",
       " Phone(jsdPhone, 500, 5),\n",
       " Phone(jsdPhone, 500, 5),\n",
       " Phone(jsdPhone, 500, 5)]"
      ]
     },
     "execution_count": 55,
     "metadata": {},
     "output_type": "execute_result"
    }
   ],
   "source": [
    "Phone.all"
   ]
  },
  {
   "cell_type": "markdown",
   "id": "d99f77af-4ddc-4017-af0b-f8c9a0274f5f",
   "metadata": {},
   "source": [
    "Notice how we removed the all = [] in the code above. That's because we can access it from the parent class"
   ]
  },
  {
   "cell_type": "markdown",
   "id": "31289997-3543-40a2-a18d-bdae9c3f1ce2",
   "metadata": {},
   "source": [
    "\n",
    "\n",
    "It is a better idea to have the parent class and child classes in separate scripts. Import class from files. Say for example you have the parent class Item in item.py, you ccan call; from item import Item. from phone import Phone"
   ]
  },
  {
   "cell_type": "markdown",
   "id": "2a99f7d1-7a8f-43b1-881c-8a578b245629",
   "metadata": {},
   "source": [
    "# Part 3"
   ]
  },
  {
   "cell_type": "code",
   "execution_count": 70,
   "id": "6a089f32-7f61-4487-8b8e-264eb40f5bd2",
   "metadata": {},
   "outputs": [
    {
     "name": "stdout",
     "output_type": "stream",
     "text": [
      "OtherItem\n"
     ]
    }
   ],
   "source": [
    "#from item import Item\n",
    "\n",
    "item1 = Item(\"MyItem\", 750, 5)\n",
    "item1.name = \"OtherItem\"\n",
    "\n",
    "print(item1.name)"
   ]
  },
  {
   "cell_type": "markdown",
   "id": "cf50975e-af31-46a1-9fbb-d149096072d0",
   "metadata": {},
   "source": [
    "In the case above, we see that the user is still able to change the name of the object from outside the script. We can prevent this. This is known as Encapsulation. Here, an attribute already created cannot be changed from outside the parent class."
   ]
  },
  {
   "cell_type": "code",
   "execution_count": 62,
   "id": "51f8be39-3eb2-4371-9616-28cde46ddece",
   "metadata": {},
   "outputs": [
    {
     "ename": "AttributeError",
     "evalue": "'Item' object has no attribute 'read_only_name'",
     "output_type": "error",
     "traceback": [
      "\u001b[1;31m---------------------------------------------------------------------------\u001b[0m",
      "\u001b[1;31mAttributeError\u001b[0m                            Traceback (most recent call last)",
      "Cell \u001b[1;32mIn[62], line 5\u001b[0m\n\u001b[0;32m      3\u001b[0m     \u001b[38;5;28;01mreturn\u001b[39;00m \u001b[38;5;124m\"\u001b[39m\u001b[38;5;124mAAA\u001b[39m\u001b[38;5;124m\"\u001b[39m\n\u001b[0;32m      4\u001b[0m \u001b[38;5;66;03m# The property is treated like an attribute. You can call it by saying item1.read_only_name()\u001b[39;00m\n\u001b[1;32m----> 5\u001b[0m \u001b[43mitem1\u001b[49m\u001b[38;5;241;43m.\u001b[39;49m\u001b[43mread_only_name\u001b[49m()\n",
      "\u001b[1;31mAttributeError\u001b[0m: 'Item' object has no attribute 'read_only_name'"
     ]
    }
   ],
   "source": [
    "@property\n",
    "def read_only_name(self):\n",
    "    return \"AAA\"\n",
    "# The property is treated like an attribute. You can call it by saying item1.read_only_name()\n"
   ]
  },
  {
   "cell_type": "code",
   "execution_count": 63,
   "id": "082aec81-b8c4-439c-8f64-2f52fb6cbbc0",
   "metadata": {},
   "outputs": [],
   "source": [
    "import csv\n",
    "\n",
    "class Item:\n",
    "    all = []\n",
    "    pay_rate = 0.8\n",
    "    def __init__(self, name: str, quantity: int, price: float):\n",
    "        # Run validations. 1 with optional argument\n",
    "        assert price >= 0, f\"Price {price} is not greater than zero!\"\n",
    "        assert quantity >= 0\n",
    "        # Assign parameters to attributes \n",
    "        self.name = name\n",
    "        self.quantity = quantity\n",
    "        self.price = price\n",
    "        \n",
    "        Item.all.append(self)\n",
    "        \n",
    "    def __repr__(self):\n",
    "        return f\"{self.__class__.__name__}({self.name}, {self.quantity}, {self.price})\"\n",
    "    \n",
    "    def apply_discount(self):\n",
    "        self.price *= self.pay_rate\n",
    "\n",
    "    @classmethod\n",
    "    def instantiate_from_csv(cls, file_name):\n",
    "        with open(file_name, 'r') as f:\n",
    "            reader = csv.DictReader(f)\n",
    "            items = list(reader)\n",
    "            for item in items:\n",
    "                Item(\n",
    "                    name=item.get('name')), \n",
    "                quantity=float(item.get('quantity')),\n",
    "                price=float(item.get('price')\n",
    "                )\n",
    "    @staticmethod\n",
    "    def is_integer(num):\n",
    "        # isinstance is used to check the type of an object\n",
    "        if isinstance(num, float):\n",
    "            return num.is_integer()\n",
    "        elif isinstance(num, int):\n",
    "            return True\n",
    "        else:\n",
    "            return False\n",
    "\n",
    "    @property\n",
    "    def read_only_name(self):\n",
    "        return \"AAA\"\n",
    "        \n",
    "    def calculate_total_price(self):\n",
    "        return self.price * self.quantity\n"
   ]
  },
  {
   "cell_type": "code",
   "execution_count": 74,
   "id": "4dcadb13-d6f8-4d9f-9d0a-5a5b2a40cbd4",
   "metadata": {},
   "outputs": [
    {
     "ename": "TypeError",
     "evalue": "'str' object is not callable",
     "output_type": "error",
     "traceback": [
      "\u001b[1;31m---------------------------------------------------------------------------\u001b[0m",
      "\u001b[1;31mTypeError\u001b[0m                                 Traceback (most recent call last)",
      "Cell \u001b[1;32mIn[74], line 1\u001b[0m\n\u001b[1;32m----> 1\u001b[0m \u001b[38;5;28mprint\u001b[39m(\u001b[43mitem1\u001b[49m\u001b[38;5;241;43m.\u001b[39;49m\u001b[43mread_only_name\u001b[49m\u001b[43m(\u001b[49m\u001b[43m)\u001b[49m)\n",
      "\u001b[1;31mTypeError\u001b[0m: 'str' object is not callable"
     ]
    }
   ],
   "source": [
    "print(item1.read_only_name())"
   ]
  },
  {
   "cell_type": "code",
   "execution_count": 68,
   "id": "d6cd2099-7b97-4d0c-8992-29e5209bc03f",
   "metadata": {},
   "outputs": [
    {
     "data": {
      "text/plain": [
       "[Phone(jsdPhone, 500, 5), Phone(jsdPhone, 500, 5)]"
      ]
     },
     "execution_count": 68,
     "metadata": {},
     "output_type": "execute_result"
    }
   ],
   "source": [
    "Item.all"
   ]
  },
  {
   "cell_type": "code",
   "execution_count": 76,
   "id": "e171e31a-a52a-4d51-a5af-305e8357e839",
   "metadata": {},
   "outputs": [
    {
     "ename": "NameError",
     "evalue": "name 'name' is not defined",
     "output_type": "error",
     "traceback": [
      "\u001b[1;31m---------------------------------------------------------------------------\u001b[0m",
      "\u001b[1;31mNameError\u001b[0m                                 Traceback (most recent call last)",
      "Cell \u001b[1;32mIn[76], line 3\u001b[0m\n\u001b[0;32m      1\u001b[0m \u001b[38;5;66;03m#set this\u001b[39;00m\n\u001b[1;32m----> 3\u001b[0m \u001b[38;5;28mself\u001b[39m\u001b[38;5;241m.\u001b[39m__name \u001b[38;5;241m=\u001b[39m \u001b[43mname\u001b[49m\n\u001b[0;32m      4\u001b[0m \u001b[38;5;66;03m#The extra underscore prevents sggestions in the IDE\u001b[39;00m\n\u001b[0;32m      5\u001b[0m \u001b[38;5;129m@property\u001b[39m\n\u001b[0;32m      6\u001b[0m \u001b[38;5;28;01mdef\u001b[39;00m \u001b[38;5;21mname\u001b[39m(\u001b[38;5;28mself\u001b[39m):\n",
      "\u001b[1;31mNameError\u001b[0m: name 'name' is not defined"
     ]
    }
   ],
   "source": [
    "#set this\n",
    "\n",
    "self.__name = name\n",
    "#The extra underscore prevents sggestions in the IDE\n",
    "@property # property means read-only attribute\n",
    "def name(self):\n",
    "    return self.__name"
   ]
  },
  {
   "cell_type": "code",
   "execution_count": null,
   "id": "30848c60-bcf4-4613-81d9-6121b6d94b10",
   "metadata": {},
   "outputs": [],
   "source": [
    "# To still allow the user set a value:\n",
    "@name.setter\n",
    "def name(self, value):\n",
    "    self.__name = value"
   ]
  },
  {
   "cell_type": "code",
   "execution_count": null,
   "id": "80bee167-a1a4-4680-868c-4a194def36b8",
   "metadata": {},
   "outputs": [],
   "source": [
    "@name.setter\n",
    "def name(self, value):\n",
    "    if len(name) > 10:\n",
    "        raise Exception(\"The name is too long\")\n",
    "    else:\n",
    "        self.__name = value"
   ]
  },
  {
   "cell_type": "markdown",
   "id": "f8be1c6d-a9f5-4c4b-a0b8-4488bd4b6b2b",
   "metadata": {},
   "source": [
    "# Four Key Principles in OOP:\n",
    "* Encapsulation\n",
    "* Abstraction\n",
    "* Inheritance\n",
    "* Polymorphism\n",
    "\n",
    "* Encapsulation: restricting access to some attributes / ability to override some attributes\n",
    "* Abstraction: This only shows the neccessary attributes and hides unnecessary information. It's by placing methods in methods.\n",
    "* Ineritance: allows us reuse code. Take for example the child classes we had\n",
    "* Polymorphism: many forms. Ability to have different scenarios from an entity. For example, i can use len() for strings, list. Polymorphism refers to a single entity that is able to handle different kinds of objects as expected. It can also refer to being able to call a method from the parent class for many child classes."
   ]
  },
  {
   "cell_type": "code",
   "execution_count": 79,
   "id": "f22f8ab6-3a7b-48ef-aec7-2463323a6c87",
   "metadata": {},
   "outputs": [],
   "source": [
    "# Abstraction\n",
    "def __connect(self, smpt_server):\n",
    "    pass\n",
    "def __prepare_body(self):\n",
    "    pass\n",
    "def __send(self):\n",
    "    pass\n",
    "def send_email(self):\n",
    "    self.__connect()\n",
    "    self.__prepare_body()\n",
    "    self.__send()\n",
    "# Abstraction prevents calling those abstract methods from being accesssed from the instance by using __. W"
   ]
  },
  {
   "cell_type": "code",
   "execution_count": null,
   "id": "8105c479-491b-4b2e-a3b4-d5f05fec12e3",
   "metadata": {},
   "outputs": [],
   "source": []
  }
 ],
 "metadata": {
  "kernelspec": {
   "display_name": "Python 3 (ipykernel)",
   "language": "python",
   "name": "python3"
  },
  "language_info": {
   "codemirror_mode": {
    "name": "ipython",
    "version": 3
   },
   "file_extension": ".py",
   "mimetype": "text/x-python",
   "name": "python",
   "nbconvert_exporter": "python",
   "pygments_lexer": "ipython3",
   "version": "3.12.3"
  }
 },
 "nbformat": 4,
 "nbformat_minor": 5
}
