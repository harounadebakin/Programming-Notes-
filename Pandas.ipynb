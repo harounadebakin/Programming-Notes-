{
 "cells": [
  {
   "cell_type": "markdown",
   "id": "6a598109-43a6-4f47-b86d-a9fe1206b934",
   "metadata": {},
   "source": [
    "# NumPy and Pandas"
   ]
  },
  {
   "cell_type": "markdown",
   "id": "683aec75-b4c0-41da-97de-c602d2064d76",
   "metadata": {},
   "source": [
    "## Pandas"
   ]
  },
  {
   "cell_type": "markdown",
   "id": "0c298ba8-7932-41f0-b5c3-0b813eba7b12",
   "metadata": {},
   "source": [
    "A Pandas series is a one-dimensional array-like object that can hold many data types, such as numbers or strings, and has an option to provide axis labels."
   ]
  },
  {
   "cell_type": "code",
   "execution_count": 1,
   "id": "ae9a2f86-aac9-4b99-9e59-d02cde2a6bb0",
   "metadata": {},
   "outputs": [],
   "source": [
    "import pandas as pd"
   ]
  },
  {
   "cell_type": "code",
   "execution_count": 2,
   "id": "45ec8c43-c496-4204-80ff-707d9e2e295a",
   "metadata": {},
   "outputs": [],
   "source": [
    "groceries = pd.Series(data = [10, 20, \"Yes\", \"No\"], index = ['eggs', 'apples', 'milk', 'bread'])"
   ]
  },
  {
   "cell_type": "code",
   "execution_count": 3,
   "id": "afa2a392-92bb-442d-9bc7-c8d043e922fb",
   "metadata": {},
   "outputs": [
    {
     "data": {
      "text/plain": [
       "eggs       10\n",
       "apples     20\n",
       "milk      Yes\n",
       "bread      No\n",
       "dtype: object"
      ]
     },
     "execution_count": 3,
     "metadata": {},
     "output_type": "execute_result"
    }
   ],
   "source": [
    "groceries"
   ]
  },
  {
   "cell_type": "markdown",
   "id": "8039306b-e8d0-4072-be8b-8e6029e8327b",
   "metadata": {},
   "source": [
    "Just like NumPy ndarrays, Pandas Series have attributes that allow us to get information from the series in an easy way"
   ]
  },
  {
   "cell_type": "code",
   "execution_count": 4,
   "id": "0909f13d-74f1-4144-939f-19c0a0b1f380",
   "metadata": {},
   "outputs": [
    {
     "data": {
      "text/plain": [
       "(4,)"
      ]
     },
     "execution_count": 4,
     "metadata": {},
     "output_type": "execute_result"
    }
   ],
   "source": [
    "groceries.shape"
   ]
  },
  {
   "cell_type": "code",
   "execution_count": 5,
   "id": "14ad869d-93d3-4dc5-abed-d6a7c207b9e8",
   "metadata": {},
   "outputs": [
    {
     "data": {
      "text/plain": [
       "4"
      ]
     },
     "execution_count": 5,
     "metadata": {},
     "output_type": "execute_result"
    }
   ],
   "source": [
    "groceries.size"
   ]
  },
  {
   "cell_type": "code",
   "execution_count": 7,
   "id": "2d545e33-519a-43d0-8ed0-b44138cc624a",
   "metadata": {},
   "outputs": [
    {
     "data": {
      "text/plain": [
       "1"
      ]
     },
     "execution_count": 7,
     "metadata": {},
     "output_type": "execute_result"
    }
   ],
   "source": [
    "groceries.ndim"
   ]
  },
  {
   "cell_type": "markdown",
   "id": "311663e7-6a63-4769-8ca9-3f507e82e1c7",
   "metadata": {},
   "source": [
    "We can also use the attributes index and values to print the index and values in our data respectively"
   ]
  },
  {
   "cell_type": "code",
   "execution_count": 9,
   "id": "5cfac788-df92-4464-abd3-e1254aa732d0",
   "metadata": {},
   "outputs": [
    {
     "data": {
      "text/plain": [
       "eggs       10\n",
       "apples     20\n",
       "milk      Yes\n",
       "bread      No\n",
       "dtype: object"
      ]
     },
     "execution_count": 9,
     "metadata": {},
     "output_type": "execute_result"
    }
   ],
   "source": [
    "groceries"
   ]
  },
  {
   "cell_type": "code",
   "execution_count": 10,
   "id": "65dbf7d3-5680-4cfd-ac05-f12ab401a480",
   "metadata": {},
   "outputs": [
    {
     "data": {
      "text/plain": [
       "array([10, 20, 'Yes', 'No'], dtype=object)"
      ]
     },
     "execution_count": 10,
     "metadata": {},
     "output_type": "execute_result"
    }
   ],
   "source": [
    "groceries.values"
   ]
  },
  {
   "cell_type": "code",
   "execution_count": 11,
   "id": "b97fb732-438d-4f27-9b85-a915cc4e96f7",
   "metadata": {},
   "outputs": [
    {
     "data": {
      "text/plain": [
       "Index(['eggs', 'apples', 'milk', 'bread'], dtype='object')"
      ]
     },
     "execution_count": 11,
     "metadata": {},
     "output_type": "execute_result"
    }
   ],
   "source": [
    "groceries.index"
   ]
  },
  {
   "cell_type": "code",
   "execution_count": 13,
   "id": "8e771f06-ed56-4613-9d82-3aac131f9a44",
   "metadata": {},
   "outputs": [
    {
     "data": {
      "text/plain": [
       "True"
      ]
     },
     "execution_count": 13,
     "metadata": {},
     "output_type": "execute_result"
    }
   ],
   "source": [
    "# We can check if something is in our index by using the membership operator\n",
    "'bread' in groceries"
   ]
  },
  {
   "cell_type": "code",
   "execution_count": 14,
   "id": "947bc19d-32d8-4393-a170-5d038563d029",
   "metadata": {},
   "outputs": [
    {
     "data": {
      "text/plain": [
       "False"
      ]
     },
     "execution_count": 14,
     "metadata": {},
     "output_type": "execute_result"
    }
   ],
   "source": [
    "'cassava' in groceries"
   ]
  },
  {
   "cell_type": "markdown",
   "id": "65b78fc5-caab-45fe-a65e-cd96145f977a",
   "metadata": {},
   "source": [
    "Pandas Series are ordered and mutable\n",
    "You can either use numeric indices or index labels. To remove ambiguities from rather we're referring to integers or index labels, Pandas has two attributes \"loc & iloc\""
   ]
  },
  {
   "cell_type": "code",
   "execution_count": 15,
   "id": "5f758445-e080-4e5c-bdc3-b527801bf77a",
   "metadata": {},
   "outputs": [],
   "source": [
    "groceries = pd.Series(data = [10, 20, \"Yes\", \"No\"], index = ['eggs', 'apples', 'milk', 'bread'])"
   ]
  },
  {
   "cell_type": "code",
   "execution_count": 16,
   "id": "2afb5400-2d8a-4207-8d3c-3b80e2801625",
   "metadata": {},
   "outputs": [
    {
     "data": {
      "text/plain": [
       "eggs       10\n",
       "apples     20\n",
       "milk      Yes\n",
       "bread      No\n",
       "dtype: object"
      ]
     },
     "execution_count": 16,
     "metadata": {},
     "output_type": "execute_result"
    }
   ],
   "source": [
    "groceries"
   ]
  },
  {
   "cell_type": "code",
   "execution_count": 17,
   "id": "b6e94ec9-23e7-4abc-a957-fe38de12a94e",
   "metadata": {},
   "outputs": [
    {
     "data": {
      "text/plain": [
       "'No'"
      ]
     },
     "execution_count": 17,
     "metadata": {},
     "output_type": "execute_result"
    }
   ],
   "source": [
    "groceries[\"bread\"]"
   ]
  },
  {
   "cell_type": "code",
   "execution_count": 18,
   "id": "c8b36af7-6d0e-4ced-a89a-da7009d52ec2",
   "metadata": {},
   "outputs": [
    {
     "name": "stderr",
     "output_type": "stream",
     "text": [
      "C:\\Users\\User\\AppData\\Local\\Temp\\ipykernel_14552\\457788637.py:1: FutureWarning: Series.__getitem__ treating keys as positions is deprecated. In a future version, integer keys will always be treated as labels (consistent with DataFrame behavior). To access a value by position, use `ser.iloc[pos]`\n",
      "  groceries[3]\n"
     ]
    },
    {
     "data": {
      "text/plain": [
       "'No'"
      ]
     },
     "execution_count": 18,
     "metadata": {},
     "output_type": "execute_result"
    }
   ],
   "source": [
    "groceries[3]"
   ]
  },
  {
   "cell_type": "code",
   "execution_count": 20,
   "id": "0736b214-141b-43e4-9b6d-a6ca1b1cf38b",
   "metadata": {},
   "outputs": [
    {
     "data": {
      "text/plain": [
       "bread     No\n",
       "milk     Yes\n",
       "dtype: object"
      ]
     },
     "execution_count": 20,
     "metadata": {},
     "output_type": "execute_result"
    }
   ],
   "source": [
    "groceries[[\"bread\", \"milk\"]]"
   ]
  },
  {
   "cell_type": "code",
   "execution_count": 21,
   "id": "bd452b72-8733-42fd-bf11-c6ac5dcf2d1e",
   "metadata": {},
   "outputs": [
    {
     "name": "stderr",
     "output_type": "stream",
     "text": [
      "C:\\Users\\User\\AppData\\Local\\Temp\\ipykernel_14552\\1288427930.py:1: FutureWarning: Series.__getitem__ treating keys as positions is deprecated. In a future version, integer keys will always be treated as labels (consistent with DataFrame behavior). To access a value by position, use `ser.iloc[pos]`\n",
      "  groceries[[2,3]]\n"
     ]
    },
    {
     "data": {
      "text/plain": [
       "milk     Yes\n",
       "bread     No\n",
       "dtype: object"
      ]
     },
     "execution_count": 21,
     "metadata": {},
     "output_type": "execute_result"
    }
   ],
   "source": [
    "groceries[[2,3]]"
   ]
  },
  {
   "cell_type": "markdown",
   "id": "a020ca51-fe8a-48b7-978f-91bf8a447548",
   "metadata": {},
   "source": [
    "#### loc & iloc"
   ]
  },
  {
   "cell_type": "code",
   "execution_count": 23,
   "id": "b01ea998-c1ff-4e9e-9e38-74973b1903bf",
   "metadata": {},
   "outputs": [
    {
     "data": {
      "text/plain": [
       "milk     Yes\n",
       "bread     No\n",
       "dtype: object"
      ]
     },
     "execution_count": 23,
     "metadata": {},
     "output_type": "execute_result"
    }
   ],
   "source": [
    "groceries.iloc[[2,3]]"
   ]
  },
  {
   "cell_type": "code",
   "execution_count": 25,
   "id": "c9b9c0d4-d9f2-4234-942c-794a7e1b693c",
   "metadata": {},
   "outputs": [
    {
     "data": {
      "text/plain": [
       "eggs     10\n",
       "bread    No\n",
       "dtype: object"
      ]
     },
     "execution_count": 25,
     "metadata": {},
     "output_type": "execute_result"
    }
   ],
   "source": [
    "groceries.loc[[\"eggs\", \"bread\"]]"
   ]
  },
  {
   "cell_type": "markdown",
   "id": "92d6547c-56ef-4f07-bcee-218d7a4ac795",
   "metadata": {},
   "source": [
    "Pandas Series like NumPy arrays are mutable and ordered."
   ]
  },
  {
   "cell_type": "markdown",
   "id": "88f3def6-29aa-4283-9c4a-053541c465bd",
   "metadata": {},
   "source": [
    "To delete elements from a Pandas Series, we use the drop method. drop()\n",
    "* The drop method drops elements out of place. To drop elements in place, we set inplace=True"
   ]
  },
  {
   "cell_type": "code",
   "execution_count": 26,
   "id": "c44ef343-8d99-4cc2-8274-c26d40c45204",
   "metadata": {},
   "outputs": [
    {
     "data": {
      "text/plain": [
       "eggs      10\n",
       "milk     Yes\n",
       "bread     No\n",
       "dtype: object"
      ]
     },
     "execution_count": 26,
     "metadata": {},
     "output_type": "execute_result"
    }
   ],
   "source": [
    "groceries.drop(\"apples\")"
   ]
  },
  {
   "cell_type": "code",
   "execution_count": 33,
   "id": "da0714df-d603-4f37-a705-751e3aec9f1a",
   "metadata": {},
   "outputs": [
    {
     "data": {
      "text/plain": [
       "eggs       10\n",
       "apples     20\n",
       "milk      Yes\n",
       "bread      No\n",
       "dtype: object"
      ]
     },
     "execution_count": 33,
     "metadata": {},
     "output_type": "execute_result"
    }
   ],
   "source": [
    "groceries"
   ]
  },
  {
   "cell_type": "code",
   "execution_count": 34,
   "id": "6a991920-5c97-48a8-989e-432ed16598a1",
   "metadata": {},
   "outputs": [],
   "source": [
    "groceries.drop(\"eggs\", inplace=True)"
   ]
  },
  {
   "cell_type": "code",
   "execution_count": 35,
   "id": "2462293b-0eb8-4dd2-8151-e12663781ab7",
   "metadata": {},
   "outputs": [
    {
     "data": {
      "text/plain": [
       "apples     20\n",
       "milk      Yes\n",
       "bread      No\n",
       "dtype: object"
      ]
     },
     "execution_count": 35,
     "metadata": {},
     "output_type": "execute_result"
    }
   ],
   "source": [
    "groceries"
   ]
  },
  {
   "cell_type": "markdown",
   "id": "4f1f4ab9-9747-4055-ac7b-3d97555e6548",
   "metadata": {},
   "source": [
    "Arithmetic operations on Pandas Series\n",
    "\n",
    "Just like with NumPy arrays, Pandas Series also allows element-wise operations"
   ]
  },
  {
   "cell_type": "code",
   "execution_count": 37,
   "id": "8a5cb6e8-a8af-4dbc-962d-effda11bac5c",
   "metadata": {},
   "outputs": [
    {
     "data": {
      "text/plain": [
       "apples     20\n",
       "milk      Yes\n",
       "bread      No\n",
       "dtype: object"
      ]
     },
     "execution_count": 37,
     "metadata": {},
     "output_type": "execute_result"
    }
   ],
   "source": [
    "groceries"
   ]
  },
  {
   "cell_type": "code",
   "execution_count": 38,
   "id": "60ae411e-8b37-47f3-85a1-88534d50ef02",
   "metadata": {},
   "outputs": [],
   "source": [
    "groceries[\"milk\"] = 45"
   ]
  },
  {
   "cell_type": "code",
   "execution_count": 39,
   "id": "82da7b09-e8c4-4912-bec3-1aa3e3d18bf5",
   "metadata": {},
   "outputs": [],
   "source": [
    "groceries[\"bread\"] = 15"
   ]
  },
  {
   "cell_type": "code",
   "execution_count": 40,
   "id": "7d93d604-cd1a-4f14-a6eb-95cdc350eb64",
   "metadata": {},
   "outputs": [
    {
     "data": {
      "text/plain": [
       "apples    20\n",
       "milk      45\n",
       "bread     15\n",
       "dtype: object"
      ]
     },
     "execution_count": 40,
     "metadata": {},
     "output_type": "execute_result"
    }
   ],
   "source": [
    "groceries"
   ]
  },
  {
   "cell_type": "code",
   "execution_count": 41,
   "id": "55709b7c-fc8c-4a9c-b2c0-1a68febc65e0",
   "metadata": {},
   "outputs": [
    {
     "data": {
      "text/plain": [
       "apples    520\n",
       "milk      545\n",
       "bread     515\n",
       "dtype: object"
      ]
     },
     "execution_count": 41,
     "metadata": {},
     "output_type": "execute_result"
    }
   ],
   "source": [
    "groceries  + 500"
   ]
  },
  {
   "cell_type": "code",
   "execution_count": 42,
   "id": "1298cfad-c314-4552-95e6-9b610f4ce870",
   "metadata": {},
   "outputs": [
    {
     "data": {
      "text/plain": [
       "apples    0.512821\n",
       "milk      1.153846\n",
       "bread     0.384615\n",
       "dtype: object"
      ]
     },
     "execution_count": 42,
     "metadata": {},
     "output_type": "execute_result"
    }
   ],
   "source": [
    "groceries / 39"
   ]
  },
  {
   "cell_type": "markdown",
   "id": "e0268181-98dc-4f62-a6d8-03bd64386567",
   "metadata": {},
   "source": [
    "We can also use NumPy"
   ]
  },
  {
   "cell_type": "code",
   "execution_count": 50,
   "id": "7828757d-68a1-47c5-90d5-6e13e4a046b5",
   "metadata": {},
   "outputs": [],
   "source": [
    "import numpy as np\n",
    "fruits= pd.Series(data = [10, 6, 3,], index = ['apples', 'oranges', 'bananas'])"
   ]
  },
  {
   "cell_type": "code",
   "execution_count": 51,
   "id": "b50faefe-8f48-4ea4-8f0a-8ba80cd6d3e1",
   "metadata": {},
   "outputs": [
    {
     "data": {
      "text/plain": [
       "apples     22026.465795\n",
       "oranges      403.428793\n",
       "bananas       20.085537\n",
       "dtype: float64"
      ]
     },
     "execution_count": 51,
     "metadata": {},
     "output_type": "execute_result"
    }
   ],
   "source": [
    "np.exp(fruits)"
   ]
  },
  {
   "cell_type": "code",
   "execution_count": 53,
   "id": "62f5382e-08f8-4517-b9dc-910326969d43",
   "metadata": {},
   "outputs": [
    {
     "data": {
      "text/plain": [
       "apples     3.162278\n",
       "oranges    2.449490\n",
       "bananas    1.732051\n",
       "dtype: float64"
      ]
     },
     "execution_count": 53,
     "metadata": {},
     "output_type": "execute_result"
    }
   ],
   "source": [
    "np.sqrt(fruits)"
   ]
  },
  {
   "cell_type": "code",
   "execution_count": 54,
   "id": "45dcaa5a-740d-42e2-aafd-38a1cc6189a8",
   "metadata": {},
   "outputs": [
    {
     "data": {
      "text/plain": [
       "apples     100\n",
       "oranges     36\n",
       "bananas      9\n",
       "dtype: int64"
      ]
     },
     "execution_count": 54,
     "metadata": {},
     "output_type": "execute_result"
    }
   ],
   "source": [
    "np.power(fruits, 2)"
   ]
  },
  {
   "cell_type": "markdown",
   "id": "1e324e30-ed37-4c14-9c57-772e088fffb9",
   "metadata": {},
   "source": [
    "We can also perform element-wise operations on single elements of a series"
   ]
  },
  {
   "cell_type": "code",
   "execution_count": 55,
   "id": "2d1cacf4-78fa-4e94-958a-fb7afea4c543",
   "metadata": {},
   "outputs": [
    {
     "data": {
      "text/plain": [
       "5"
      ]
     },
     "execution_count": 55,
     "metadata": {},
     "output_type": "execute_result"
    }
   ],
   "source": [
    "fruits.iloc[2] + 2"
   ]
  },
  {
   "cell_type": "code",
   "execution_count": 56,
   "id": "bb875b29-4416-45e7-877d-84502771989a",
   "metadata": {},
   "outputs": [
    {
     "data": {
      "text/plain": [
       "480"
      ]
     },
     "execution_count": 56,
     "metadata": {},
     "output_type": "execute_result"
    }
   ],
   "source": [
    "fruits.loc[\"oranges\"] * 80"
   ]
  },
  {
   "cell_type": "code",
   "execution_count": 57,
   "id": "f97232af-ffc0-44ce-b33e-441809e3f049",
   "metadata": {},
   "outputs": [
    {
     "data": {
      "text/plain": [
       "apples     200\n",
       "oranges    120\n",
       "dtype: int64"
      ]
     },
     "execution_count": 57,
     "metadata": {},
     "output_type": "execute_result"
    }
   ],
   "source": [
    "fruits.loc[[\"apples\", \"oranges\"]] * 20"
   ]
  },
  {
   "cell_type": "markdown",
   "id": "c3d4e478-afed-4c73-b486-0cf51057fc38",
   "metadata": {},
   "source": [
    "Pandas DataFrames"
   ]
  },
  {
   "cell_type": "markdown",
   "id": "03c9dcb7-6814-4601-b10d-905de2cdf8d2",
   "metadata": {},
   "source": [
    "Pandas DataFrames are two-dimensional data structures with labeled rows and columns, that can hold many data types.\n",
    "\n",
    "We can create a Pandas DataFrame manually or by loading data from a file. To create the DataFrame manually, we can use:\n",
    "\n",
    "* a dictionary of Pandas Series as values\n",
    "* a dictionary of lists as values\n",
    "* a list of dictionaries"
   ]
  },
  {
   "cell_type": "code",
   "execution_count": 80,
   "id": "fa529cf6-fb9a-40df-9824-5148459fe7d7",
   "metadata": {},
   "outputs": [],
   "source": [
    "# from a dictionary\n",
    "items = {'Bob' : pd.Series(data = [245, 25, 55], index = ['bike', 'pants', 'watch']),\n",
    "         'Alice' : pd.Series(data = [40, 110, 500, 45], index = ['book', 'glasses', 'bike', 'pants'])}\n",
    "# We may not provide index. "
   ]
  },
  {
   "cell_type": "code",
   "execution_count": 69,
   "id": "092a6f6d-4dfc-484a-b2b4-7608475b70cf",
   "metadata": {},
   "outputs": [],
   "source": [
    "shopping_carts = pd.DataFrame(items)"
   ]
  },
  {
   "cell_type": "code",
   "execution_count": 70,
   "id": "88418574-2326-48f5-b4de-e47dd8522ade",
   "metadata": {},
   "outputs": [
    {
     "data": {
      "text/html": [
       "<div>\n",
       "<style scoped>\n",
       "    .dataframe tbody tr th:only-of-type {\n",
       "        vertical-align: middle;\n",
       "    }\n",
       "\n",
       "    .dataframe tbody tr th {\n",
       "        vertical-align: top;\n",
       "    }\n",
       "\n",
       "    .dataframe thead th {\n",
       "        text-align: right;\n",
       "    }\n",
       "</style>\n",
       "<table border=\"1\" class=\"dataframe\">\n",
       "  <thead>\n",
       "    <tr style=\"text-align: right;\">\n",
       "      <th></th>\n",
       "      <th>Bob</th>\n",
       "      <th>Alice</th>\n",
       "    </tr>\n",
       "  </thead>\n",
       "  <tbody>\n",
       "    <tr>\n",
       "      <th>bike</th>\n",
       "      <td>245.0</td>\n",
       "      <td>500.0</td>\n",
       "    </tr>\n",
       "    <tr>\n",
       "      <th>book</th>\n",
       "      <td>NaN</td>\n",
       "      <td>40.0</td>\n",
       "    </tr>\n",
       "    <tr>\n",
       "      <th>glasses</th>\n",
       "      <td>NaN</td>\n",
       "      <td>110.0</td>\n",
       "    </tr>\n",
       "    <tr>\n",
       "      <th>pants</th>\n",
       "      <td>25.0</td>\n",
       "      <td>45.0</td>\n",
       "    </tr>\n",
       "    <tr>\n",
       "      <th>watch</th>\n",
       "      <td>55.0</td>\n",
       "      <td>NaN</td>\n",
       "    </tr>\n",
       "  </tbody>\n",
       "</table>\n",
       "</div>"
      ],
      "text/plain": [
       "           Bob  Alice\n",
       "bike     245.0  500.0\n",
       "book       NaN   40.0\n",
       "glasses    NaN  110.0\n",
       "pants     25.0   45.0\n",
       "watch     55.0    NaN"
      ]
     },
     "execution_count": 70,
     "metadata": {},
     "output_type": "execute_result"
    }
   ],
   "source": [
    "shopping_carts"
   ]
  },
  {
   "cell_type": "markdown",
   "id": "06976057-10dc-4840-9e4c-9acc018ebf45",
   "metadata": {},
   "source": [
    "Pandas DataFrame also possesses arguments similar to NumPy arrays\n"
   ]
  },
  {
   "cell_type": "markdown",
   "id": "78b01c04-c6f9-4ff7-bdb4-ce266d8b6ff4",
   "metadata": {},
   "source": [
    "We can decide to load only particular columns or index by setting index and/or columns"
   ]
  },
  {
   "cell_type": "code",
   "execution_count": 85,
   "id": "cdbdd05d-9ba0-4c3b-a407-e32634a325f0",
   "metadata": {},
   "outputs": [
    {
     "data": {
      "text/html": [
       "<div>\n",
       "<style scoped>\n",
       "    .dataframe tbody tr th:only-of-type {\n",
       "        vertical-align: middle;\n",
       "    }\n",
       "\n",
       "    .dataframe tbody tr th {\n",
       "        vertical-align: top;\n",
       "    }\n",
       "\n",
       "    .dataframe thead th {\n",
       "        text-align: right;\n",
       "    }\n",
       "</style>\n",
       "<table border=\"1\" class=\"dataframe\">\n",
       "  <thead>\n",
       "    <tr style=\"text-align: right;\">\n",
       "      <th></th>\n",
       "      <th>Bob</th>\n",
       "    </tr>\n",
       "  </thead>\n",
       "  <tbody>\n",
       "    <tr>\n",
       "      <th>bike</th>\n",
       "      <td>245</td>\n",
       "    </tr>\n",
       "    <tr>\n",
       "      <th>pants</th>\n",
       "      <td>25</td>\n",
       "    </tr>\n",
       "    <tr>\n",
       "      <th>watch</th>\n",
       "      <td>55</td>\n",
       "    </tr>\n",
       "  </tbody>\n",
       "</table>\n",
       "</div>"
      ],
      "text/plain": [
       "       Bob\n",
       "bike   245\n",
       "pants   25\n",
       "watch   55"
      ]
     },
     "execution_count": 85,
     "metadata": {},
     "output_type": "execute_result"
    }
   ],
   "source": [
    "bob_shopping_cart = pd.DataFrame(items, columns=['Bob'])\n",
    "bob_shopping_cart"
   ]
  },
  {
   "cell_type": "code",
   "execution_count": 87,
   "id": "16b0dfe4-5b65-4595-bba2-5cbeabb9aafa",
   "metadata": {},
   "outputs": [
    {
     "data": {
      "text/html": [
       "<div>\n",
       "<style scoped>\n",
       "    .dataframe tbody tr th:only-of-type {\n",
       "        vertical-align: middle;\n",
       "    }\n",
       "\n",
       "    .dataframe tbody tr th {\n",
       "        vertical-align: top;\n",
       "    }\n",
       "\n",
       "    .dataframe thead th {\n",
       "        text-align: right;\n",
       "    }\n",
       "</style>\n",
       "<table border=\"1\" class=\"dataframe\">\n",
       "  <thead>\n",
       "    <tr style=\"text-align: right;\">\n",
       "      <th></th>\n",
       "      <th>Bob</th>\n",
       "      <th>Alice</th>\n",
       "    </tr>\n",
       "  </thead>\n",
       "  <tbody>\n",
       "    <tr>\n",
       "      <th>pants</th>\n",
       "      <td>25.0</td>\n",
       "      <td>45</td>\n",
       "    </tr>\n",
       "    <tr>\n",
       "      <th>book</th>\n",
       "      <td>NaN</td>\n",
       "      <td>40</td>\n",
       "    </tr>\n",
       "  </tbody>\n",
       "</table>\n",
       "</div>"
      ],
      "text/plain": [
       "        Bob  Alice\n",
       "pants  25.0     45\n",
       "book    NaN     40"
      ]
     },
     "execution_count": 87,
     "metadata": {},
     "output_type": "execute_result"
    }
   ],
   "source": [
    "sel_shopping_cart = pd.DataFrame(items, index = ['pants', 'book'])\n",
    "sel_shopping_cart"
   ]
  },
  {
   "cell_type": "code",
   "execution_count": 88,
   "id": "9f4a2f7c-2ef9-44e4-8e13-3a7a91e91bf6",
   "metadata": {},
   "outputs": [
    {
     "data": {
      "text/html": [
       "<div>\n",
       "<style scoped>\n",
       "    .dataframe tbody tr th:only-of-type {\n",
       "        vertical-align: middle;\n",
       "    }\n",
       "\n",
       "    .dataframe tbody tr th {\n",
       "        vertical-align: top;\n",
       "    }\n",
       "\n",
       "    .dataframe thead th {\n",
       "        text-align: right;\n",
       "    }\n",
       "</style>\n",
       "<table border=\"1\" class=\"dataframe\">\n",
       "  <thead>\n",
       "    <tr style=\"text-align: right;\">\n",
       "      <th></th>\n",
       "      <th>Alice</th>\n",
       "    </tr>\n",
       "  </thead>\n",
       "  <tbody>\n",
       "    <tr>\n",
       "      <th>glasses</th>\n",
       "      <td>110</td>\n",
       "    </tr>\n",
       "    <tr>\n",
       "      <th>bike</th>\n",
       "      <td>500</td>\n",
       "    </tr>\n",
       "  </tbody>\n",
       "</table>\n",
       "</div>"
      ],
      "text/plain": [
       "         Alice\n",
       "glasses    110\n",
       "bike       500"
      ]
     },
     "execution_count": 88,
     "metadata": {},
     "output_type": "execute_result"
    }
   ],
   "source": [
    "alice_sel_shopping_cart = pd.DataFrame(items, index = ['glasses', 'bike'], columns = ['Alice'])\n",
    "alice_sel_shopping_cart"
   ]
  },
  {
   "cell_type": "code",
   "execution_count": 90,
   "id": "f59eecd2-9ef1-4742-a1b8-3945ce828489",
   "metadata": {},
   "outputs": [
    {
     "data": {
      "text/html": [
       "<div>\n",
       "<style scoped>\n",
       "    .dataframe tbody tr th:only-of-type {\n",
       "        vertical-align: middle;\n",
       "    }\n",
       "\n",
       "    .dataframe tbody tr th {\n",
       "        vertical-align: top;\n",
       "    }\n",
       "\n",
       "    .dataframe thead th {\n",
       "        text-align: right;\n",
       "    }\n",
       "</style>\n",
       "<table border=\"1\" class=\"dataframe\">\n",
       "  <thead>\n",
       "    <tr style=\"text-align: right;\">\n",
       "      <th></th>\n",
       "      <th>Integers</th>\n",
       "      <th>Floats</th>\n",
       "    </tr>\n",
       "  </thead>\n",
       "  <tbody>\n",
       "    <tr>\n",
       "      <th>0</th>\n",
       "      <td>1</td>\n",
       "      <td>4.5</td>\n",
       "    </tr>\n",
       "    <tr>\n",
       "      <th>1</th>\n",
       "      <td>2</td>\n",
       "      <td>8.2</td>\n",
       "    </tr>\n",
       "    <tr>\n",
       "      <th>2</th>\n",
       "      <td>3</td>\n",
       "      <td>9.6</td>\n",
       "    </tr>\n",
       "  </tbody>\n",
       "</table>\n",
       "</div>"
      ],
      "text/plain": [
       "   Integers  Floats\n",
       "0         1     4.5\n",
       "1         2     8.2\n",
       "2         3     9.6"
      ]
     },
     "execution_count": 90,
     "metadata": {},
     "output_type": "execute_result"
    }
   ],
   "source": [
    "data = {'Integers' : [1,2,3],\n",
    "        'Floats' : [4.5, 8.2, 9.6]}\n",
    "df = pd.DataFrame(data)\n",
    "df"
   ]
  },
  {
   "cell_type": "code",
   "execution_count": 92,
   "id": "b48fd9d8-cd76-4ab8-b74c-b1370e7d377e",
   "metadata": {},
   "outputs": [
    {
     "data": {
      "text/html": [
       "<div>\n",
       "<style scoped>\n",
       "    .dataframe tbody tr th:only-of-type {\n",
       "        vertical-align: middle;\n",
       "    }\n",
       "\n",
       "    .dataframe tbody tr th {\n",
       "        vertical-align: top;\n",
       "    }\n",
       "\n",
       "    .dataframe thead th {\n",
       "        text-align: right;\n",
       "    }\n",
       "</style>\n",
       "<table border=\"1\" class=\"dataframe\">\n",
       "  <thead>\n",
       "    <tr style=\"text-align: right;\">\n",
       "      <th></th>\n",
       "      <th>Integers</th>\n",
       "      <th>Floats</th>\n",
       "    </tr>\n",
       "  </thead>\n",
       "  <tbody>\n",
       "    <tr>\n",
       "      <th>label 1</th>\n",
       "      <td>1</td>\n",
       "      <td>4.5</td>\n",
       "    </tr>\n",
       "    <tr>\n",
       "      <th>label 2</th>\n",
       "      <td>2</td>\n",
       "      <td>8.2</td>\n",
       "    </tr>\n",
       "    <tr>\n",
       "      <th>label 3</th>\n",
       "      <td>3</td>\n",
       "      <td>9.6</td>\n",
       "    </tr>\n",
       "  </tbody>\n",
       "</table>\n",
       "</div>"
      ],
      "text/plain": [
       "         Integers  Floats\n",
       "label 1         1     4.5\n",
       "label 2         2     8.2\n",
       "label 3         3     9.6"
      ]
     },
     "execution_count": 92,
     "metadata": {},
     "output_type": "execute_result"
    }
   ],
   "source": [
    "mf = pd.DataFrame(data, index = ['label 1', 'label 2', 'label 3'])\n",
    "mf"
   ]
  },
  {
   "cell_type": "code",
   "execution_count": null,
   "id": "8cbd84d9-b3df-4d8e-9a4e-9d7638e44819",
   "metadata": {},
   "outputs": [],
   "source": []
  },
  {
   "cell_type": "code",
   "execution_count": 72,
   "id": "42f2e3b3-6892-4627-8ffe-f2208147ab99",
   "metadata": {},
   "outputs": [
    {
     "data": {
      "text/plain": [
       "(5, 2)"
      ]
     },
     "execution_count": 72,
     "metadata": {},
     "output_type": "execute_result"
    }
   ],
   "source": [
    "shopping_carts.shape"
   ]
  },
  {
   "cell_type": "code",
   "execution_count": 73,
   "id": "293e6402-37ac-4a46-bc2b-70953125cd75",
   "metadata": {},
   "outputs": [
    {
     "data": {
      "text/plain": [
       "10"
      ]
     },
     "execution_count": 73,
     "metadata": {},
     "output_type": "execute_result"
    }
   ],
   "source": [
    "shopping_carts.size"
   ]
  },
  {
   "cell_type": "code",
   "execution_count": 74,
   "id": "102966b8-dd29-4091-9182-5eba5922979b",
   "metadata": {},
   "outputs": [
    {
     "data": {
      "text/plain": [
       "2"
      ]
     },
     "execution_count": 74,
     "metadata": {},
     "output_type": "execute_result"
    }
   ],
   "source": [
    "shopping_carts.ndim"
   ]
  },
  {
   "cell_type": "code",
   "execution_count": 75,
   "id": "1b7b491a-8881-4463-a17b-21745d228d7d",
   "metadata": {},
   "outputs": [
    {
     "data": {
      "text/plain": [
       "Index(['bike', 'book', 'glasses', 'pants', 'watch'], dtype='object')"
      ]
     },
     "execution_count": 75,
     "metadata": {},
     "output_type": "execute_result"
    }
   ],
   "source": [
    "shopping_carts.index"
   ]
  },
  {
   "cell_type": "code",
   "execution_count": 76,
   "id": "b1602521-e83b-464a-9d0f-24e17b4c3e4f",
   "metadata": {},
   "outputs": [
    {
     "data": {
      "text/plain": [
       "Index(['Bob', 'Alice'], dtype='object')"
      ]
     },
     "execution_count": 76,
     "metadata": {},
     "output_type": "execute_result"
    }
   ],
   "source": [
    "shopping_carts.columns"
   ]
  },
  {
   "cell_type": "code",
   "execution_count": 77,
   "id": "5407ef21-59e9-47a8-9332-af84d76c4566",
   "metadata": {},
   "outputs": [
    {
     "data": {
      "text/plain": [
       "array([[245., 500.],\n",
       "       [ nan,  40.],\n",
       "       [ nan, 110.],\n",
       "       [ 25.,  45.],\n",
       "       [ 55.,  nan]])"
      ]
     },
     "execution_count": 77,
     "metadata": {},
     "output_type": "execute_result"
    }
   ],
   "source": [
    "shopping_carts.values"
   ]
  }
 ],
 "metadata": {
  "kernelspec": {
   "display_name": "Python 3 (ipykernel)",
   "language": "python",
   "name": "python3"
  },
  "language_info": {
   "codemirror_mode": {
    "name": "ipython",
    "version": 3
   },
   "file_extension": ".py",
   "mimetype": "text/x-python",
   "name": "python",
   "nbconvert_exporter": "python",
   "pygments_lexer": "ipython3",
   "version": "3.12.3"
  }
 },
 "nbformat": 4,
 "nbformat_minor": 5
}
